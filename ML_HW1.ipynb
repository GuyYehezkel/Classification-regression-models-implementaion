{
 "cells": [
  {
   "cell_type": "markdown",
   "metadata": {},
   "source": []
  },
  {
   "cell_type": "markdown",
   "metadata": {},
   "source": [
    "<h1>Table of content</h1>\n",
    "<br>\n",
    "<ol>\n",
    "<li><a href=\"#Data\">Data</a></li>\n",
    "<li><a href=\"#libraries\">Libraries</a></li>\n",
    "<li><a href=\"#Utils\">Utils</a></li>\n",
    "<li><a href=\"#PreProcessing\">Preprocessing(including parts of section D)</a></li>\n",
    "<li><a href=\"#Section A\">Section A</a></li>\n",
    "<li><a href=\"#Section B\">Section B</a></li>\n",
    "<li><a href=\"#Section C\">Section C</a></li>\n",
    "</ol>"
   ]
  },
  {
   "cell_type": "markdown",
   "metadata": {},
   "source": [
    "<h1 id=\"Data\">Data</h1>\n",
    "<p>\n",
    "The data consists of features of real estate in different areas of Bangalore. It\n",
    "was pre-processed for convenience.<br>\n",
    "Variables:<br>\n",
    "• availability: is the property available immediately (1) or in the near<br>\n",
    "future (0).<br>\n",
    "• total_sqft: the area of the property in square feet (1 foot = 30.54 cm).<br>\n",
    "• bedrooms: the number of bedrooms in the property.<br>\n",
    "• bath: the number of bathrooms in the property.<br>\n",
    "• balcony: the number of balconies in the property.<br>\n",
    "• rank: the ranking of the neighborhood in terms of average price (1 is<br>\n",
    "the highest).<br>\n",
    "• area_type: is the property type a built up area (B) or plot area (P).<br>\n",
    "• price in rupees: the price of the property.<br>\n",
    "</p>\n",
    "\n",
    "<h2>Tasks</h2>\n",
    "<p>1. Classification: Use both models from section A and predict the area<br>\n",
    "type (B, P), using all the features in the dataset.<br>\n",
    "2. Regression: Use the decision tree model from section A and predict the<br>\n",
    "price of a property, using all the features in the dataset.<br></p>"
   ]
  },
  {
   "cell_type": "markdown",
   "metadata": {},
   "source": [
    "<h1 id=\"libraries\">importing Libraries</h1>\n",
    "<p>Libraries for data visualization, data manipulation and building trees</p>"
   ]
  },
  {
   "cell_type": "code",
   "execution_count": 1,
   "metadata": {},
   "outputs": [],
   "source": [
    "import numpy\n",
    "import collections\n",
    "import pandas as pd\n",
    "import numpy as np\n",
    "import matplotlib.pyplot as plt\n",
    "import seaborn as sns\n",
    "import sklearn\n",
    "# decision tree\n",
    "from sklearn import tree\n",
    "from sklearn.tree import DecisionTreeClassifier, DecisionTreeRegressor\n",
    "\n",
    "# random forest\n",
    "from sklearn.ensemble import RandomForestClassifier, RandomForestRegressor\n",
    "\n",
    "# model building\n",
    "from sklearn.model_selection import train_test_split, GridSearchCV\n",
    "\n",
    "# model evaluation\n",
    "from sklearn.metrics import accuracy_score, mean_squared_error\n",
    "from sklearn import metrics as met\n",
    "from sklearn.metrics import plot_confusion_matrix\n",
    "from sklearn.metrics import confusion_matrix\n",
    "\n",
    "#deal with imbalance data classes\n",
    "from collections import Counter\n",
    "import imblearn\n",
    "from imblearn.over_sampling import SMOTE\n",
    "# adaboost\n",
    "from sklearn.ensemble import AdaBoostClassifier, AdaBoostRegressor\n",
    "\n",
    "# gradient boosting\n",
    "from sklearn.ensemble import GradientBoostingClassifier, GradientBoostingRegressor\n",
    "\n",
    "# model building\n",
    "from sklearn.model_selection import train_test_split, GridSearchCV\n",
    "\n",
    "# model evaluation\n",
    "from sklearn.metrics import accuracy_score, mean_squared_error\n",
    "\n",
    "#for log's calculations\n",
    "import math\n",
    "\n",
    "from math import e\n",
    "import random\n",
    "import time\n",
    "import warnings\n",
    "warnings.filterwarnings(\"ignore\")\n",
    "\n",
    "# set seed for reproducible results\n",
    "RSEED = 10\n",
    "\n",
    "pd.set_option('display.max_rows', 10)\n",
    "pd.set_option('display.max_columns', 20)\n",
    "pd.set_option('display.width', 1000)\n",
    "pd.options.display.max_columns=300\n",
    "\n",
    "pd.set_option('display.float_format', lambda x: '%.6f' % x)"
   ]
  },
  {
   "cell_type": "markdown",
   "metadata": {},
   "source": [
    "<h1 id=\"Utils\">utils functions</h1>\n",
    "<p>utils functions for our loading and evaluating of the decisions trees<br>\n",
    "and the AdaBoost (classifier) algorithm\n",
    "</p>"
   ]
  },
  {
   "cell_type": "markdown",
   "metadata": {},
   "source": [
    "<h2>Evaluation Metrics</h2>\n",
    "<h3>Classification</h3>\n",
    "<p>\n",
    "Terms:\n",
    "we chose class B to be our positive and P to be the negative.<br>\n",
    "therefor in our dataset:<br>\n",
    "TP = when the model predicted B and its also the real area type of the sample<br>\n",
    "TN = when the model predicted P and its also the real area type of the sample<br>\n",
    "FP = when the model predicted B but the real area type of the sample is P<br>\n",
    "FN = when the model predicted P but the real area type of the sample is B<br>\n",
    "</p><br><br>\n",
    "$\\large Accuracy    = \\dfrac{TP+TN}{TP+TN+FP+FN}$<br><br>\n",
    "$\\large Sensitivity = \\dfrac{TP}{TP+FN}$<br><br>\n",
    "$\\large Specificity = \\dfrac{TN}{TN+FP}$<br><br>\n",
    "$\\large Precision   = \\dfrac{TP}{TP+FP}$<br><br>\n",
    "\n",
    "<h3>Regression</h3>\n",
    "<p>\n",
    "we chose to use MSE as our way to evaluate the regression modules.<br>\n",
    "let N be num of the testing samples, Y the true value of the Y label and $\\hat{Y}$ be our prediction value for a certain sample, therefor:<br><br>\n",
    "$\\large MSE = \\sum_{n=0}^{N} \\dfrac{(Y- \\hat{Y})^2}{N}$\n",
    "</p>"
   ]
  },
  {
   "cell_type": "code",
   "execution_count": 2,
   "metadata": {
    "pycharm": {
     "name": "#%%\n"
    }
   },
   "outputs": [],
   "source": [
    "#load csv file  as dataframe\n",
    "def load_data():\n",
    "    real_estate_df = pd.read_csv('data.csv')\n",
    "    return real_estate_df\n",
    "\n",
    "\n",
    "#compute evaluate metrics\n",
    "def calcMatrics(TA,TB,FA,FB):\n",
    "    accuracy = (TA + TB)/(TA + TB + FA + FB)\n",
    "    sensitivity = TA / (TA + FB)\n",
    "    specificity = TB/(TB + FA)\n",
    "    precision = TA/(TA + FA)\n",
    "    return accuracy, sensitivity, specificity, precision\n",
    "\n",
    "#return exp with base e of a given number\n",
    "def exp(num):\n",
    "    return e**num\n",
    "\n",
    "#evaluate a classify module\n",
    "class Evaluation:\n",
    "\n",
    "    def __init__(self):\n",
    "        self.TA = 0\n",
    "        self.TB = 0\n",
    "        self.FA = 0\n",
    "        self.FB = 0\n",
    "        self.accuracy = 0\n",
    "        self.sensitivity = 0\n",
    "        self.specificity = 0\n",
    "        self.precision = 0\n",
    "\n",
    "    #calculate evaluate metrics\n",
    "    def predicting(self,df,tree):\n",
    "        for i in range(0,len(df.index)):\n",
    "            # This line below put predicted value for the given sample in #prediction variable\n",
    "            prediction = tree.predict(tree.root,df.iloc[i])\n",
    "            #count TP TN\n",
    "            if df.iloc[i][classify_y] == prediction:\n",
    "                if df.iloc[i][classify_y] == 'B':\n",
    "                    self.TA+=1\n",
    "                else:\n",
    "                    self.TB +=1\n",
    "            #count FP FN\n",
    "            else:\n",
    "                if prediction == 'B':\n",
    "                    self.FA+=1\n",
    "                else:\n",
    "                    self.FB +=1\n",
    "        #calc metrics\n",
    "        self.accuracy, self.sensitivity, self.specificity, self.precision = calcMatrics(self.TA,self.TB,self.FA,self.FB)\n",
    "\n",
    "#evaluate a classify adaboost module\n",
    "class AdaEvaluation:\n",
    "\n",
    "    def __init__(self):\n",
    "        self.TA = 0\n",
    "        self.TB = 0\n",
    "        self.FA = 0\n",
    "        self.FB = 0\n",
    "        self.accuracy = 0\n",
    "        self.sensitivity = 0\n",
    "        self.specificity = 0\n",
    "        self.precision = 0\n",
    "\n",
    "    #calculate evaluate metrics\n",
    "    def predicting_adaboost(self, df, adaboost):\n",
    "        for i in range(0,len(df.index)):\n",
    "            # prediction is the predicted valur by Adaboost of the given sample\n",
    "            prediction = adaboost.predict(df.iloc[i])\n",
    "            #count TP TN\n",
    "            if df.iloc[i][classify_y] == prediction:\n",
    "                if df.iloc[i][classify_y] == 'B':\n",
    "                    self.TA+=1\n",
    "                else:\n",
    "                    self.TB +=1\n",
    "            #count FP FN\n",
    "            else:\n",
    "                if prediction == 'B':\n",
    "                    self.FA+=1\n",
    "                else:\n",
    "                    self.FB +=1\n",
    "        #calc metrics\n",
    "        self.accuracy, self.sensitivity, self.specificity, self.precision = calcMatrics(self.TA,self.TB,self.FA,self.FB)\n",
    "\n",
    "#evalutae regressor tree\n",
    "class Reg_Evaluation:\n",
    "\n",
    "    def __init__(self):\n",
    "        self.total_Num = 0\n",
    "        self.sum_ssr = 0\n",
    "        self.mse = 0\n",
    "    #calculate evaluate metric\n",
    "    def predicting_regression(self, df, tree):\n",
    "        self.total_Num = len(df)\n",
    "        list_to_return = list()\n",
    "        mean = df.loc[:,'price in rupees'].values.mean()\n",
    "        for i in range(0,len(df.index)):\n",
    "            # prediction is the predicted value by regression tree of the given sample\n",
    "            prediction = tree.predict(tree.root,df.iloc[i])\n",
    "            prediction = exp(prediction)\n",
    "            list_to_return.append(prediction)\n",
    "            self.sum_ssr += (df.iloc[i][regressor_y] - prediction)**2\n",
    "        self.mse = self.sum_ssr/self.total_Num\n",
    "        return list_to_return\n",
    "#evalutae gradiant boost\n",
    "class GradiantEvaluation:\n",
    "\n",
    "    def __init__(self):\n",
    "        self.mse = 0\n",
    "\n",
    "    #calculate evaluate metric\n",
    "    #regressor_test = test dataset\n",
    "    def predicting_gradiant(self, regressor_test, gradiantboost):\n",
    "        list_to_return = list()\n",
    "        for i in range(0,len(regressor_test.index)):\n",
    "            #prediction  = Reg_Prediction variable\n",
    "            prediction = gradiantboost.predict(regressor_test.iloc[i])\n",
    "            prediction = exp(prediction)\n",
    "            list_to_return.append(prediction)\n",
    "            self.mse+=(regressor_test.iloc[i][7]- prediction)**2\n",
    "\n",
    "        self.mse = self.mse/len(regressor_test.index)\n",
    "        return list_to_return\n",
    "def gradiant_grid_search(train_data, validation_data, max_depth_list, estimet_num_list,learning_rate):\n",
    "\n",
    "    gradiant_to_return = None\n",
    "    min_mse = float('inf')\n",
    "\n",
    "    #pre- processing for predicting\n",
    "    eval = GradiantEvaluation()\n",
    "\n",
    "    #pre-processing the test data(changing categorical values and taking care of skewed feature)\n",
    "    regressor_validate_area_type = validation_data['area_type'].map({'B': 1, 'P': 0})\n",
    "    regressor_validation = pd.concat([regressor_validate_area_type, validation_data.iloc[:,2:]], axis=1)\n",
    "    #validate_log_resp = np.log(validation_data.iloc[:,8:])\n",
    "    #regressor_validation['price in rupees'] = validate_log_resp\n",
    "\n",
    "    for depth in max_depth_list:\n",
    "        for num in estimet_num_list:\n",
    "            gradiant = GradiantBoost(train_data,learning_rate,depth,num,regressor_y,8,'price in rupees',30,9)\n",
    "            print(\"building gradiant boost started...\")\n",
    "            start_time = time.time()\n",
    "            gradiant.fit()\n",
    "            print(\"building gradiant boost ended in %s seconds\" % (time.time() - start_time))\n",
    "            eval.predicting_gradiant(regressor_validation, gradiant)\n",
    "            if eval.mse < min_mse:\n",
    "                gradiant_to_return = gradiant\n",
    "                min_mse = eval.mse\n",
    "    return gradiant_to_return\n",
    "\n",
    "\n",
    "#testing different combination of hyperparameters and return the reg tree who operate the best\n",
    "#on the validation data\n",
    "def reg_grid_search(train_data, validation_data, max_depth_list, min_samp_list):\n",
    "\n",
    "    tree_to_return = None\n",
    "    min_mse = float('inf')\n",
    "\n",
    "    #pre- processing for predicting\n",
    "    eval = Reg_Evaluation()\n",
    "\n",
    "    #pre-processing the test data(changing categorical values and taking care of skewed feature)\n",
    "    regressor_validate_area_type = validation_data['area_type'].map({'B': 1, 'P': 0})\n",
    "    regressor_validation = pd.concat([regressor_validate_area_type, validation_data.iloc[:,2:]], axis=1)\n",
    "    #validate_log_resp = np.log(validation_data.iloc[:,8:])\n",
    "    #regressor_validation['price in rupees'] = validate_log_resp\n",
    "\n",
    "    for depth in max_depth_list:\n",
    "        for min_sample in min_samp_list:\n",
    "            regTree = RegressionTree(train_data,depth,min_sample,regressor_y)\n",
    "            print(\"building regression tree started...\")\n",
    "            start_time = time.time()\n",
    "            regTree.build(regTree.root)\n",
    "            print(\"building regression tree ended in %s seconds\" % (time.time() - start_time))\n",
    "            eval.predicting_regression(regressor_validation, regTree)\n",
    "            if eval.mse < min_mse:\n",
    "                tree_to_return = regTree\n",
    "                min_mse = eval.mse\n",
    "    return tree_to_return\n",
    "\n",
    "\n",
    "#testing different combination of hyperparameters and return the classification tree who operate the best\n",
    "#on the validation data\n",
    "def classify_grid_search(train_data, validation_data, max_depth_list, min_samp_list):\n",
    "\n",
    "    classify_validation = validation_data.copy(deep=True)\n",
    "    classify_validation = classify_validation.drop(['Unnamed: 0'], axis=1)\n",
    "\n",
    "    max_accuracy = 0\n",
    "    tree_to_return = None\n",
    "\n",
    "    eval = Evaluation()\n",
    "    for depth in max_depth_list:\n",
    "        for min_samp in min_samp_list:\n",
    "            classify_tree = ClassifyTree(train_data,depth,min_samp)\n",
    "            print(\"building classify tree started...\")\n",
    "            start_time = time.time()\n",
    "            classify_tree.build(classify_tree.root)\n",
    "            print(\"building classify tree ended in %s seconds\" % (time.time() - start_time))\n",
    "            eval.predicting(classify_validation,classify_tree)\n",
    "\n",
    "            if eval.accuracy > max_accuracy:\n",
    "                max_accuracy = eval.accuracy\n",
    "                tree_to_return = classify_tree\n",
    "\n",
    "    return tree_to_return\n",
    "\n",
    "#testing different combination of hyperparameters and return the adaboost who operate the best\n",
    "#on the validation data\n",
    "def adaboost_grid_search(train_data, validation_data, estimators_num):\n",
    "\n",
    "    classify_validation = validation_data.copy(deep=True)\n",
    "    classify_validation = classify_validation.drop(['Unnamed: 0'], axis=1)\n",
    "\n",
    "    max_specificity = 0\n",
    "    adaboost_to_return = None\n",
    "\n",
    "    eval = AdaEvaluation()\n",
    "    for num in estimators_num:\n",
    "        classify_adaboost = AdaBoost(train_data,num)\n",
    "        classify_adaboost.fit()\n",
    "        AdaEvaluation()\n",
    "        eval.predicting_adaboost(classify_validation, classify_adaboost)\n",
    "        if eval.specificity > max_specificity:\n",
    "            max_specificity = eval.specificity\n",
    "            adaboost_to_return = classify_adaboost\n",
    "\n",
    "    return adaboost_to_return"
   ]
  },
  {
   "cell_type": "markdown",
   "metadata": {},
   "source": [
    "<h1 id=\"PreProcessing\">Pre Processing</h1>"
   ]
  },
  {
   "cell_type": "markdown",
   "metadata": {},
   "source": [
    "<h2>loading and splitting the dataset</h2>"
   ]
  },
  {
   "cell_type": "code",
   "execution_count": 3,
   "metadata": {
    "pycharm": {
     "name": "#%%\n"
    }
   },
   "outputs": [],
   "source": [
    "#loading data\n",
    "real_estate_df = load_data()\n",
    "#spliting data\n",
    "train = real_estate_df.iloc[0:8040]\n",
    "validation = real_estate_df.iloc[8040:10050]\n",
    "test = real_estate_df.iloc[10050:12563]"
   ]
  },
  {
   "cell_type": "markdown",
   "metadata": {},
   "source": [
    "<h2>Define X,Y features</h2>\n"
   ]
  },
  {
   "cell_type": "code",
   "execution_count": 4,
   "metadata": {
    "pycharm": {
     "name": "#%%\n"
    }
   },
   "outputs": [],
   "source": [
    "\n",
    "#x features for classification tree\n",
    "classify_x = [1,2,3,4,5,6,7]\n",
    "\n",
    "#label index for classification tree\n",
    "classify_y = 0\n",
    "\n",
    "#area_type values our classification values\n",
    "classes = ['B','P']\n",
    "\n",
    "#split classify features to categorical and numeric\n",
    "categoricals_list = [1]\n",
    "numeric_list = [2,3,4,5,6,7]\n",
    "\n",
    "#x features for regressor\n",
    "regressor_x = [0,1,2,3,4,5,6]\n",
    "\n",
    "#label index for regressor\n",
    "regressor_y = 7\n",
    "\n",
    "#x, y data for regressor\n",
    "regressor_train_X = train.iloc[:,1:8] #dataframe excluding price in rupees column\n",
    "regressor_train_y = train.iloc[:,8:]  #price in rupees column\n",
    "#change values of area type to numeric\n",
    "regressor_train_area_type = regressor_train_X['area_type'].map({'B': 1, 'P': 0})\n",
    "regressor_train_X = pd.concat([regressor_train_area_type, regressor_train_X.iloc[:,1:]], axis=1)\n",
    "#regressor_new_train = the regressor train dataset after replacing B, P  to 1,0(including price in rupees column)\n",
    "regressor_new_train = pd.concat([regressor_train_X, regressor_train_y], axis=1)\n",
    "\n",
    "#lists of x features indexes for the regression model\n",
    "reg_categoricals_list = [0,1]\n",
    "reg_numeric_list = [2,3,4,5,6]"
   ]
  },
  {
   "cell_type": "markdown",
   "metadata": {},
   "source": [
    "<h2>Hyper parameters</h2>"
   ]
  },
  {
   "cell_type": "code",
   "execution_count": 5,
   "metadata": {
    "pycharm": {
     "name": "#%%\n"
    }
   },
   "outputs": [],
   "source": [
    "#max depth of the tree\n",
    "max_depth = [4,7]\n",
    "\n",
    "reg_max_depth = [8,9]\n",
    "\n",
    "#min samples per node\n",
    "min_samples = [2,4]\n",
    "\n",
    "reg_min_samples = [20,30]\n",
    "\n",
    "#num of stumps\n",
    "n_estimators = [2,20]\n",
    "\n",
    "#learning rate\n",
    "learning_rate = 0.5\n",
    "\n",
    "#max leafs\n",
    "gradiant_max_depth = [4,5]\n",
    "\n",
    "#max estimators\n",
    "gradiant_estimators = [10,20]\n"
   ]
  },
  {
   "cell_type": "markdown",
   "metadata": {},
   "source": [
    "<h2>examining the dataset</h2>\n",
    "\n",
    "<h3>quick view<h3>\n",
    "<p>\n",
    "First we will examine our data and look for any problems in it that might reduced the accurecy of our modules.\n",
    "</p>"
   ]
  },
  {
   "cell_type": "code",
   "execution_count": 6,
   "metadata": {
    "pycharm": {
     "name": "#%%\n"
    }
   },
   "outputs": [
    {
     "data": {
      "text/plain": "   Unnamed: 0 area_type  availability  bedrooms  total_sqft     bath  balcony  ranked  price in rupees\n0           0         B             1  3.000000 1655.000000 3.000000 1.000000     134  10800000.000000\n1           1         B             1  2.000000 1102.000000 2.000000 1.000000     134   4800000.000000\n2           2         B             0  2.000000 1112.000000 2.000000 1.000000     242   8800000.000000\n3           3         B             1  3.000000 1450.000000 3.000000 3.000000     335   5100000.000000\n4           4         B             1  2.000000 1010.000000 2.000000 1.000000     261   4100000.000000",
      "text/html": "<div>\n<style scoped>\n    .dataframe tbody tr th:only-of-type {\n        vertical-align: middle;\n    }\n\n    .dataframe tbody tr th {\n        vertical-align: top;\n    }\n\n    .dataframe thead th {\n        text-align: right;\n    }\n</style>\n<table border=\"1\" class=\"dataframe\">\n  <thead>\n    <tr style=\"text-align: right;\">\n      <th></th>\n      <th>Unnamed: 0</th>\n      <th>area_type</th>\n      <th>availability</th>\n      <th>bedrooms</th>\n      <th>total_sqft</th>\n      <th>bath</th>\n      <th>balcony</th>\n      <th>ranked</th>\n      <th>price in rupees</th>\n    </tr>\n  </thead>\n  <tbody>\n    <tr>\n      <th>0</th>\n      <td>0</td>\n      <td>B</td>\n      <td>1</td>\n      <td>3.000000</td>\n      <td>1655.000000</td>\n      <td>3.000000</td>\n      <td>1.000000</td>\n      <td>134</td>\n      <td>10800000.000000</td>\n    </tr>\n    <tr>\n      <th>1</th>\n      <td>1</td>\n      <td>B</td>\n      <td>1</td>\n      <td>2.000000</td>\n      <td>1102.000000</td>\n      <td>2.000000</td>\n      <td>1.000000</td>\n      <td>134</td>\n      <td>4800000.000000</td>\n    </tr>\n    <tr>\n      <th>2</th>\n      <td>2</td>\n      <td>B</td>\n      <td>0</td>\n      <td>2.000000</td>\n      <td>1112.000000</td>\n      <td>2.000000</td>\n      <td>1.000000</td>\n      <td>242</td>\n      <td>8800000.000000</td>\n    </tr>\n    <tr>\n      <th>3</th>\n      <td>3</td>\n      <td>B</td>\n      <td>1</td>\n      <td>3.000000</td>\n      <td>1450.000000</td>\n      <td>3.000000</td>\n      <td>3.000000</td>\n      <td>335</td>\n      <td>5100000.000000</td>\n    </tr>\n    <tr>\n      <th>4</th>\n      <td>4</td>\n      <td>B</td>\n      <td>1</td>\n      <td>2.000000</td>\n      <td>1010.000000</td>\n      <td>2.000000</td>\n      <td>1.000000</td>\n      <td>261</td>\n      <td>4100000.000000</td>\n    </tr>\n  </tbody>\n</table>\n</div>"
     },
     "execution_count": 6,
     "metadata": {},
     "output_type": "execute_result"
    }
   ],
   "source": [
    "real_estate_df.head()"
   ]
  },
  {
   "cell_type": "code",
   "execution_count": 7,
   "outputs": [
    {
     "data": {
      "text/plain": "area_type           object\navailability         int64\nbedrooms           float64\ntotal_sqft         float64\nbath               float64\nbalcony            float64\nranked               int64\nprice in rupees    float64\ndtype: object"
     },
     "execution_count": 7,
     "metadata": {},
     "output_type": "execute_result"
    }
   ],
   "source": [
    "real_estate_df.iloc[:,1:].dtypes"
   ],
   "metadata": {
    "collapsed": false,
    "pycharm": {
     "name": "#%%\n"
    }
   }
  },
  {
   "cell_type": "markdown",
   "source": [
    "<p>As we can see our data contains 8 features (2 categorial and 6 numeric) and also an unnamed colloumn that does not releveat <br>so we will remove it.</p>\n",
    "<br>\n",
    "<h2>Shape</h2>"
   ],
   "metadata": {
    "collapsed": false
   }
  },
  {
   "cell_type": "code",
   "execution_count": 8,
   "outputs": [
    {
     "data": {
      "text/plain": "(12563, 9)"
     },
     "execution_count": 8,
     "metadata": {},
     "output_type": "execute_result"
    }
   ],
   "source": [
    "real_estate_df.shape"
   ],
   "metadata": {
    "collapsed": false,
    "pycharm": {
     "name": "#%%\n"
    }
   }
  },
  {
   "cell_type": "markdown",
   "source": [
    "<h2>Data statistics</h2>\n",
    "<p>we will cheack the statistic(mean, median, std, min, max..etc)<br>\n",
    "of our dataset in order learn more about the distribution and more about each  numeric feature</p>"
   ],
   "metadata": {
    "collapsed": false
   }
  },
  {
   "cell_type": "code",
   "execution_count": 10,
   "outputs": [
    {
     "data": {
      "text/plain": "          bedrooms     total_sqft         bath      balcony       ranked  price in rupees\ncount 12563.000000   12563.000000 12563.000000 12563.000000 12563.000000     12563.000000\nmean      2.741145    1794.519223     2.617607     1.602165   236.386054  10630074.026904\nstd       1.204731   14702.309017     1.221164     0.804165   120.749788  13226952.461002\nmin       1.000000     250.000000     1.000000     0.000000     1.000000    800000.000000\n25%       2.000000    1100.000000     2.000000     1.000000   134.000000   4950000.000000\n50%       3.000000    1260.000000     2.000000     2.000000   226.000000   7000000.000000\n75%       3.000000    1641.500000     3.000000     2.000000   335.000000  11500000.000000\nmax      43.000000 1306800.000000    40.000000     3.000000   504.000000 291200000.000000",
      "text/html": "<div>\n<style scoped>\n    .dataframe tbody tr th:only-of-type {\n        vertical-align: middle;\n    }\n\n    .dataframe tbody tr th {\n        vertical-align: top;\n    }\n\n    .dataframe thead th {\n        text-align: right;\n    }\n</style>\n<table border=\"1\" class=\"dataframe\">\n  <thead>\n    <tr style=\"text-align: right;\">\n      <th></th>\n      <th>bedrooms</th>\n      <th>total_sqft</th>\n      <th>bath</th>\n      <th>balcony</th>\n      <th>ranked</th>\n      <th>price in rupees</th>\n    </tr>\n  </thead>\n  <tbody>\n    <tr>\n      <th>count</th>\n      <td>12563.000000</td>\n      <td>12563.000000</td>\n      <td>12563.000000</td>\n      <td>12563.000000</td>\n      <td>12563.000000</td>\n      <td>12563.000000</td>\n    </tr>\n    <tr>\n      <th>mean</th>\n      <td>2.741145</td>\n      <td>1794.519223</td>\n      <td>2.617607</td>\n      <td>1.602165</td>\n      <td>236.386054</td>\n      <td>10630074.026904</td>\n    </tr>\n    <tr>\n      <th>std</th>\n      <td>1.204731</td>\n      <td>14702.309017</td>\n      <td>1.221164</td>\n      <td>0.804165</td>\n      <td>120.749788</td>\n      <td>13226952.461002</td>\n    </tr>\n    <tr>\n      <th>min</th>\n      <td>1.000000</td>\n      <td>250.000000</td>\n      <td>1.000000</td>\n      <td>0.000000</td>\n      <td>1.000000</td>\n      <td>800000.000000</td>\n    </tr>\n    <tr>\n      <th>25%</th>\n      <td>2.000000</td>\n      <td>1100.000000</td>\n      <td>2.000000</td>\n      <td>1.000000</td>\n      <td>134.000000</td>\n      <td>4950000.000000</td>\n    </tr>\n    <tr>\n      <th>50%</th>\n      <td>3.000000</td>\n      <td>1260.000000</td>\n      <td>2.000000</td>\n      <td>2.000000</td>\n      <td>226.000000</td>\n      <td>7000000.000000</td>\n    </tr>\n    <tr>\n      <th>75%</th>\n      <td>3.000000</td>\n      <td>1641.500000</td>\n      <td>3.000000</td>\n      <td>2.000000</td>\n      <td>335.000000</td>\n      <td>11500000.000000</td>\n    </tr>\n    <tr>\n      <th>max</th>\n      <td>43.000000</td>\n      <td>1306800.000000</td>\n      <td>40.000000</td>\n      <td>3.000000</td>\n      <td>504.000000</td>\n      <td>291200000.000000</td>\n    </tr>\n  </tbody>\n</table>\n</div>"
     },
     "execution_count": 10,
     "metadata": {},
     "output_type": "execute_result"
    }
   ],
   "source": [
    "real_estate_df.iloc[:,3:].describe()"
   ],
   "metadata": {
    "collapsed": false,
    "pycharm": {
     "name": "#%%\n"
    }
   }
  },
  {
   "cell_type": "markdown",
   "source": [
    "<p>As we can see there is a huge different between the mean the median and even the 75% and the max value of our<br>\n",
    "regressor label(price in rupees), what that can point out the the feature is skewed or that it has outliers,<br>\n",
    "there for we will create a histogram of this feature to learn more.<br>\n",
    "the bedrooms and bath features has very close statistics values so there may be high correlation between them.<br>\n",
    "we will create a heatmap of the correlation of each pairs to learn more.</p>"
   ],
   "metadata": {
    "collapsed": false
   }
  },
  {
   "cell_type": "markdown",
   "metadata": {},
   "source": [
    "<h3>checking correlation</h3>"
   ]
  },
  {
   "cell_type": "code",
   "execution_count": 11,
   "metadata": {
    "pycharm": {
     "name": "#%%\n"
    }
   },
   "outputs": [
    {
     "data": {
      "text/plain": "<AxesSubplot:title={'center':'correlation of the features'}>"
     },
     "execution_count": 11,
     "metadata": {},
     "output_type": "execute_result"
    },
    {
     "data": {
      "text/plain": "<Figure size 1008x504 with 2 Axes>",
      "image/png": "[encoded data removed]"
     },
     "metadata": {
      "needs_background": "light"
     },
     "output_type": "display_data"
    }
   ],
   "source": [
    "plt.figure(figsize=(14,7))\n",
    "plt.title(\"correlation of the features\")\n",
    "heatmap_data = real_estate_df.iloc[:, 3:].corr()\n",
    "sns.heatmap(data=heatmap_data,cmap= 'RdBu_r', vmin=-1, vmax=1, annot=True)"
   ]
  },
  {
   "cell_type": "markdown",
   "metadata": {},
   "source": [
    "<p>As we can see there is a very high correlation between bedrooms number and the baths number<br>\n",
    "typically we would remove one of them becaues their are basically different measurements of the same thing<br>\n",
    " but in this assigment we were told to use all the feature for classification and regression.</p>"
   ]
  },
  {
   "cell_type": "markdown",
   "source": [
    "<h2>checking for missing values</h2>\n",
    "<br>\n",
    "<p>we need to check if there are any missing values in our data<br>\n",
    "if there are so some of the models(escpecilly sklearns) will freak out.<br>\n",
    "there are 2 methods for handelig missing values:<br>\n",
    "<ol>\n",
    "<li>remove the samples with missing values(good if the part of the missing samples is small or if or most of the features in the sample are missing)</li><br>\n",
    "<li>various imputation methods.</li>\n",
    "</il>\n",
    "</p>"
   ],
   "metadata": {
    "collapsed": false
   }
  },
  {
   "cell_type": "code",
   "execution_count": 12,
   "outputs": [
    {
     "data": {
      "text/plain": "area_type          0\navailability       0\nbedrooms           0\ntotal_sqft         0\nbath               0\nbalcony            0\nranked             0\nprice in rupees    0\ndtype: int64"
     },
     "execution_count": 12,
     "metadata": {},
     "output_type": "execute_result"
    }
   ],
   "source": [
    "real_estate_df.iloc[:,1:].isnull().sum()"
   ],
   "metadata": {
    "collapsed": false,
    "pycharm": {
     "name": "#%%\n"
    }
   }
  },
  {
   "cell_type": "markdown",
   "source": [
    "<p>fortunately we have no missing values in our data.</p>"
   ],
   "metadata": {
    "collapsed": false
   }
  },
  {
   "cell_type": "markdown",
   "metadata": {},
   "source": [
    "<h2>checking Ratio between the 2 classes</h2>\n"
   ]
  },
  {
   "cell_type": "code",
   "execution_count": 13,
   "metadata": {
    "pycharm": {
     "name": "#%%\n"
    }
   },
   "outputs": [
    {
     "data": {
      "text/plain": "<Figure size 720x720 with 1 Axes>",
      "image/png": "[encoded data removed]"
     },
     "metadata": {
      "needs_background": "light"
     },
     "output_type": "display_data"
    }
   ],
   "source": [
    "# visualize the target variable\n",
    "plt.figure(figsize=(10, 10))\n",
    "g = sns.countplot(train['area_type'])\n",
    "g.set_xticklabels(['B','P'])\n",
    "plt.show()"
   ]
  },
  {
   "cell_type": "markdown",
   "metadata": {},
   "source": [
    "<p>\n",
    "As we can see the classes are imbalanced, therefor  a classification model<br>\n",
    "won't be able to learn propertly how to classify correctly the minority class 'P'.<br>\n",
    "there are some ways to handle situation like this.<br>\n",
    "like:<br>\n",
    "<ol>\n",
    "    <li>Random under-sampling</li>\n",
    "    <li>Random over-sampling</li>\n",
    "    <li>Under-sampling: Tomek links</li>\n",
    "    <li>Synthetic Minority Oversampling Technique (SMOTE)</li>\n",
    "    <li>NearMiss</li>\n",
    "</ol>\n",
    "we chose to use SMOTE in oreder to avoid:<br>\n",
    "<ul>\n",
    "<li>losing potentially useful information which could be important for building rule classifiers.</li>\n",
    "<li>biased samples</li>\n",
    "</ul>\n",
    "and also in order to minimaize likelihood of overfitting(by not using simple Random over-sampling).</p>\n",
    "\n",
    "<h2>The Gain</h2>\n",
    "<p>By using SMOTE  we gave our classifiers more samples to learn how to predict P samples better.<br>\n",
    "We mannaged to increase the specitifity(in our case true prediction of P from all P samples) by up to 20%</p>"
   ]
  },
  {
   "cell_type": "markdown",
   "metadata": {},
   "source": [
    "<h2>Dealing with imbalanced data classes</h2>"
   ]
  },
  {
   "cell_type": "code",
   "execution_count": 14,
   "metadata": {
    "pycharm": {
     "name": "#%%\n"
    }
   },
   "outputs": [
    {
     "name": "stdout",
     "output_type": "stream",
     "text": [
      "Original dataset shape Counter({'B': 6856, 'P': 1184})\n",
      "Resample dataset shape Counter({'B': 6856, 'P': 6856})\n"
     ]
    },
    {
     "data": {
      "text/plain": "<Figure size 720x720 with 1 Axes>",
      "image/png": "[encoded data removed]"
     },
     "metadata": {
      "needs_background": "light"
     },
     "output_type": "display_data"
    }
   ],
   "source": [
    "#########Dealing with imbalanced data classes\n",
    "\n",
    "x = train.iloc[:,2:]\n",
    "y = train.iloc[:, 1]\n",
    "smote = SMOTE(random_state= RSEED)\n",
    "# fit predictor and target variable\n",
    "x_smote, y_smote = smote.fit_resample(x, y)\n",
    "\n",
    "print('Original dataset shape', Counter(y))\n",
    "print('Resample dataset shape', Counter(y_smote))\n",
    "\n",
    "new_Train = pd.concat([y_smote, x_smote], axis=1)\n",
    "\n",
    "# visualize the target variable\n",
    "plt.figure(figsize=(10, 10))\n",
    "g = sns.countplot(new_Train['area_type'])\n",
    "g.set_xticklabels(['B','P'])\n",
    "plt.show()\n"
   ]
  },
  {
   "cell_type": "markdown",
   "source": [],
   "metadata": {
    "collapsed": false
   }
  },
  {
   "cell_type": "code",
   "execution_count": 15,
   "outputs": [
    {
     "data": {
      "text/plain": "  area_type  availability  bedrooms  total_sqft     bath  balcony  ranked  price in rupees\n0         B             1  3.000000 1655.000000 3.000000 1.000000     134  10800000.000000\n1         B             1  2.000000 1102.000000 2.000000 1.000000     134   4800000.000000\n2         B             0  2.000000 1112.000000 2.000000 1.000000     242   8800000.000000\n3         B             1  3.000000 1450.000000 3.000000 3.000000     335   5100000.000000\n4         B             1  2.000000 1010.000000 2.000000 1.000000     261   4100000.000000",
      "text/html": "<div>\n<style scoped>\n    .dataframe tbody tr th:only-of-type {\n        vertical-align: middle;\n    }\n\n    .dataframe tbody tr th {\n        vertical-align: top;\n    }\n\n    .dataframe thead th {\n        text-align: right;\n    }\n</style>\n<table border=\"1\" class=\"dataframe\">\n  <thead>\n    <tr style=\"text-align: right;\">\n      <th></th>\n      <th>area_type</th>\n      <th>availability</th>\n      <th>bedrooms</th>\n      <th>total_sqft</th>\n      <th>bath</th>\n      <th>balcony</th>\n      <th>ranked</th>\n      <th>price in rupees</th>\n    </tr>\n  </thead>\n  <tbody>\n    <tr>\n      <th>0</th>\n      <td>B</td>\n      <td>1</td>\n      <td>3.000000</td>\n      <td>1655.000000</td>\n      <td>3.000000</td>\n      <td>1.000000</td>\n      <td>134</td>\n      <td>10800000.000000</td>\n    </tr>\n    <tr>\n      <th>1</th>\n      <td>B</td>\n      <td>1</td>\n      <td>2.000000</td>\n      <td>1102.000000</td>\n      <td>2.000000</td>\n      <td>1.000000</td>\n      <td>134</td>\n      <td>4800000.000000</td>\n    </tr>\n    <tr>\n      <th>2</th>\n      <td>B</td>\n      <td>0</td>\n      <td>2.000000</td>\n      <td>1112.000000</td>\n      <td>2.000000</td>\n      <td>1.000000</td>\n      <td>242</td>\n      <td>8800000.000000</td>\n    </tr>\n    <tr>\n      <th>3</th>\n      <td>B</td>\n      <td>1</td>\n      <td>3.000000</td>\n      <td>1450.000000</td>\n      <td>3.000000</td>\n      <td>3.000000</td>\n      <td>335</td>\n      <td>5100000.000000</td>\n    </tr>\n    <tr>\n      <th>4</th>\n      <td>B</td>\n      <td>1</td>\n      <td>2.000000</td>\n      <td>1010.000000</td>\n      <td>2.000000</td>\n      <td>1.000000</td>\n      <td>261</td>\n      <td>4100000.000000</td>\n    </tr>\n  </tbody>\n</table>\n</div>"
     },
     "execution_count": 15,
     "metadata": {},
     "output_type": "execute_result"
    }
   ],
   "source": [
    "new_Train.head()"
   ],
   "metadata": {
    "collapsed": false,
    "pycharm": {
     "name": "#%%\n"
    }
   }
  },
  {
   "cell_type": "code",
   "execution_count": 16,
   "metadata": {
    "pycharm": {
     "name": "#%%\n"
    }
   },
   "outputs": [
    {
     "data": {
      "text/plain": "      area_type  availability  bedrooms  total_sqft     bath  balcony  ranked  price in rupees\n13707         P             1  5.383395  725.888977 4.000000 2.000000     306   8500000.000000\n13708         P             0  2.953881 1204.611898 2.953881 1.046119     165   9500000.000000\n13709         P             1  4.446378 1200.000000 4.446378 2.184541     247  13500000.000000\n13710         P             1  4.460821 6004.756360 5.692786 1.000000      12  70000000.000000\n13711         P             1  6.606387 1534.840321 6.141850 1.070925     213  15000000.000000",
      "text/html": "<div>\n<style scoped>\n    .dataframe tbody tr th:only-of-type {\n        vertical-align: middle;\n    }\n\n    .dataframe tbody tr th {\n        vertical-align: top;\n    }\n\n    .dataframe thead th {\n        text-align: right;\n    }\n</style>\n<table border=\"1\" class=\"dataframe\">\n  <thead>\n    <tr style=\"text-align: right;\">\n      <th></th>\n      <th>area_type</th>\n      <th>availability</th>\n      <th>bedrooms</th>\n      <th>total_sqft</th>\n      <th>bath</th>\n      <th>balcony</th>\n      <th>ranked</th>\n      <th>price in rupees</th>\n    </tr>\n  </thead>\n  <tbody>\n    <tr>\n      <th>13707</th>\n      <td>P</td>\n      <td>1</td>\n      <td>5.383395</td>\n      <td>725.888977</td>\n      <td>4.000000</td>\n      <td>2.000000</td>\n      <td>306</td>\n      <td>8500000.000000</td>\n    </tr>\n    <tr>\n      <th>13708</th>\n      <td>P</td>\n      <td>0</td>\n      <td>2.953881</td>\n      <td>1204.611898</td>\n      <td>2.953881</td>\n      <td>1.046119</td>\n      <td>165</td>\n      <td>9500000.000000</td>\n    </tr>\n    <tr>\n      <th>13709</th>\n      <td>P</td>\n      <td>1</td>\n      <td>4.446378</td>\n      <td>1200.000000</td>\n      <td>4.446378</td>\n      <td>2.184541</td>\n      <td>247</td>\n      <td>13500000.000000</td>\n    </tr>\n    <tr>\n      <th>13710</th>\n      <td>P</td>\n      <td>1</td>\n      <td>4.460821</td>\n      <td>6004.756360</td>\n      <td>5.692786</td>\n      <td>1.000000</td>\n      <td>12</td>\n      <td>70000000.000000</td>\n    </tr>\n    <tr>\n      <th>13711</th>\n      <td>P</td>\n      <td>1</td>\n      <td>6.606387</td>\n      <td>1534.840321</td>\n      <td>6.141850</td>\n      <td>1.070925</td>\n      <td>213</td>\n      <td>15000000.000000</td>\n    </tr>\n  </tbody>\n</table>\n</div>"
     },
     "execution_count": 16,
     "metadata": {},
     "output_type": "execute_result"
    }
   ],
   "source": [
    "new_Train.tail()"
   ]
  },
  {
   "cell_type": "markdown",
   "source": [
    "<h2>Checking for connections and patterns between the features and the labels</h2>\n",
    "<h3>Availability on Area type</h3>"
   ],
   "metadata": {
    "collapsed": false
   }
  },
  {
   "cell_type": "code",
   "execution_count": 17,
   "outputs": [
    {
     "data": {
      "text/plain": "<Figure size 432x288 with 1 Axes>",
      "image/png": "[encoded data removed]"
     },
     "metadata": {
      "needs_background": "light"
     },
     "output_type": "display_data"
    }
   ],
   "source": [
    "ax = sns.countplot(x=new_Train['area_type'], hue=new_Train['availability'], palette='Blues', alpha=0.9)\n",
    "sns.despine(top=True, right=True, bottom=True, left=True)\n",
    "plt.tick_params(axis='both', which='both', bottom=False, top=False, left=False)\n",
    "plt.xlabel('')\n",
    "plt.title('availability' + ' area_type')\n",
    "plt.ylabel('count')\n",
    "\n",
    "for p in ax.patches:\n",
    "        ax.annotate('{:.1f}'.format(p.get_height()), (p.get_x()+0.1, p.get_height()+50))"
   ],
   "metadata": {
    "collapsed": false,
    "pycharm": {
     "name": "#%%\n"
    }
   }
  },
  {
   "cell_type": "markdown",
   "source": [
    "<p>we can see that about 17.5% from all P samples have  availability  0 and <br>\n",
    "about 21% from all B samples have  availability  0 <br>\n",
    "this means that the availability of most samples is 1</p>"
   ],
   "metadata": {
    "collapsed": false
   }
  },
  {
   "cell_type": "markdown",
   "metadata": {},
   "source": [
    "<h2>Checking the distribution of the Y label for our regression module</h2>"
   ]
  },
  {
   "cell_type": "code",
   "execution_count": 18,
   "metadata": {
    "pycharm": {
     "name": "#%%\n"
    }
   },
   "outputs": [
    {
     "data": {
      "text/plain": "<seaborn.axisgrid.FacetGrid at 0x2d1a3926b60>"
     },
     "execution_count": 18,
     "metadata": {},
     "output_type": "execute_result"
    },
    {
     "data": {
      "text/plain": "<Figure size 2160x2880 with 0 Axes>"
     },
     "metadata": {},
     "output_type": "display_data"
    },
    {
     "data": {
      "text/plain": "<Figure size 360x360 with 1 Axes>",
      "image/png": "[encoded data removed]"
     },
     "metadata": {
      "needs_background": "light"
     },
     "output_type": "display_data"
    },
    {
     "data": {
      "text/plain": "<Figure size 360x360 with 1 Axes>",
      "image/png": "[encoded data removed]"
     },
     "metadata": {
      "needs_background": "light"
     },
     "output_type": "display_data"
    }
   ],
   "source": [
    "plt.figure(figsize=(30, 40))\n",
    "sns.displot(data=regressor_train_y, x=\"price in rupees\")\n",
    "sns.displot(data=regressor_train_y, x=\"price in rupees\", kind=\"kde\")"
   ]
  },
  {
   "cell_type": "markdown",
   "metadata": {},
   "source": [
    "<h2>Handling skewed Data</h2>"
   ]
  },
  {
   "cell_type": "markdown",
   "metadata": {},
   "source": [
    "<p>As we can see our Y label is very skewed, this is a problem because the model will be trained on a much larger number of<br> moderately priced homes, and will be less likely to successfully predict<br>\n",
    " the price for the most expensive houses.<br>\n",
    " we will try to transform as best as we can the distribution to Normal distribution in order to<br>\n",
    " train our module as best as we can.<br>\n",
    " there are some ways to make this like:<br>\n",
    "<ol>\n",
    "<li>Square Root Transformation</li>\n",
    "<li>Reciprocal Transformation</li>\n",
    "<li>Log Transformation</li>\n",
    "</ol>\n",
    "we will try them and se which one fits the most.\n",
    "</p>\n",
    "\n",
    "<h2>The Gain</h2>\n",
    "<p>by normalize the price collumn we reduced the variance of the feature<br>\n",
    "and helped the regressors modules to be trained on a much larger number of expensive houses<br>\n",
    "and will be much more likely to successfully predict them.<br>\n",
    "</p>"
   ]
  },
  {
   "cell_type": "markdown",
   "metadata": {},
   "source": [
    "<h3>Square Root Transformation</h3>"
   ]
  },
  {
   "cell_type": "code",
   "execution_count": 19,
   "metadata": {
    "pycharm": {
     "name": "#%%\n"
    }
   },
   "outputs": [
    {
     "data": {
      "text/plain": "<seaborn.axisgrid.FacetGrid at 0x2d1a5612dd0>"
     },
     "execution_count": 19,
     "metadata": {},
     "output_type": "execute_result"
    },
    {
     "data": {
      "text/plain": "<Figure size 2160x2880 with 0 Axes>"
     },
     "metadata": {},
     "output_type": "display_data"
    },
    {
     "data": {
      "text/plain": "<Figure size 360x360 with 1 Axes>",
      "image/png": "[encoded data removed]"
     },
     "metadata": {
      "needs_background": "light"
     },
     "output_type": "display_data"
    },
    {
     "data": {
      "text/plain": "<Figure size 360x360 with 1 Axes>",
      "image/png": "[encoded data removed]"
     },
     "metadata": {
      "needs_background": "light"
     },
     "output_type": "display_data"
    }
   ],
   "source": [
    "sqrt_resp = regressor_train_y**(0.5)\n",
    "plt.figure(figsize=(30, 40))\n",
    "sns.displot(data=sqrt_resp, x=\"price in rupees\")\n",
    "sns.displot(data=sqrt_resp, x=\"price in rupees\", kind=\"kde\")"
   ]
  },
  {
   "cell_type": "markdown",
   "metadata": {},
   "source": [
    "<h3>Reciprocal Transformation</h3>"
   ]
  },
  {
   "cell_type": "code",
   "execution_count": 20,
   "metadata": {
    "pycharm": {
     "name": "#%%\n"
    }
   },
   "outputs": [
    {
     "data": {
      "text/plain": "<seaborn.axisgrid.FacetGrid at 0x2d1a5690730>"
     },
     "execution_count": 20,
     "metadata": {},
     "output_type": "execute_result"
    },
    {
     "data": {
      "text/plain": "<Figure size 2160x2880 with 0 Axes>"
     },
     "metadata": {},
     "output_type": "display_data"
    },
    {
     "data": {
      "text/plain": "<Figure size 360x360 with 1 Axes>",
      "image/png": "[encoded data removed]"
     },
     "metadata": {
      "needs_background": "light"
     },
     "output_type": "display_data"
    },
    {
     "data": {
      "text/plain": "<Figure size 360x360 with 1 Axes>",
      "image/png": "[encoded data removed]"
     },
     "metadata": {
      "needs_background": "light"
     },
     "output_type": "display_data"
    }
   ],
   "source": [
    "recip = 1/regressor_train_y\n",
    "plt.figure(figsize=(30, 40))\n",
    "sns.displot(data=recip, x=\"price in rupees\")\n",
    "sns.displot(data=recip, x=\"price in rupees\", kind=\"kde\")"
   ]
  },
  {
   "cell_type": "markdown",
   "metadata": {},
   "source": [
    "<h3>Log Transformation</h3>"
   ]
  },
  {
   "cell_type": "code",
   "execution_count": 21,
   "metadata": {
    "pycharm": {
     "name": "#%%\n"
    }
   },
   "outputs": [
    {
     "data": {
      "text/plain": "<seaborn.axisgrid.FacetGrid at 0x2d1a58785b0>"
     },
     "execution_count": 21,
     "metadata": {},
     "output_type": "execute_result"
    },
    {
     "data": {
      "text/plain": "<Figure size 360x360 with 1 Axes>",
      "image/png": "[encoded data removed]"
     },
     "metadata": {
      "needs_background": "light"
     },
     "output_type": "display_data"
    },
    {
     "data": {
      "text/plain": "<Figure size 360x360 with 1 Axes>",
      "image/png": "[encoded data removed]"
     },
     "metadata": {
      "needs_background": "light"
     },
     "output_type": "display_data"
    }
   ],
   "source": [
    "log_resp = np.log(regressor_train_y)\n",
    "sns.displot(data=log_resp, x=\"price in rupees\")\n",
    "sns.displot(data=log_resp, x=\"price in rupees\", kind=\"kde\")"
   ]
  },
  {
   "cell_type": "markdown",
   "metadata": {},
   "source": [
    "<p>As we can see Log Transformation perfomed the best, there for we will choose it. </p>"
   ]
  },
  {
   "cell_type": "code",
   "execution_count": 22,
   "metadata": {
    "pycharm": {
     "name": "#%%\n"
    }
   },
   "outputs": [
    {
     "data": {
      "text/plain": "count   8040.000000\nmean      15.876632\nstd        0.698704\nmin       13.592367\n25%       15.414898\n50%       15.761421\n75%       16.257858\nmax       19.489521\nName: price in rupees, dtype: float64"
     },
     "execution_count": 22,
     "metadata": {},
     "output_type": "execute_result"
    }
   ],
   "source": [
    "regressor_train_y = log_resp\n",
    "#replace price in rupees original values with normalize ones\n",
    "regressor_new_train['price in rupees'] = regressor_train_y\n",
    "\n",
    "regressor_train_y['price in rupees'].describe()"
   ]
  },
  {
   "cell_type": "code",
   "execution_count": 23,
   "metadata": {
    "pycharm": {
     "name": "#%%\n"
    }
   },
   "outputs": [
    {
     "data": {
      "text/plain": "   area_type  availability  bedrooms  total_sqft     bath  balcony  ranked  price in rupees\n0          1             1  3.000000 1655.000000 3.000000 1.000000     134        16.195057\n1          1             1  2.000000 1102.000000 2.000000 1.000000     134        15.384126\n2          1             0  2.000000 1112.000000 2.000000 1.000000     242        15.990262\n3          1             1  3.000000 1450.000000 3.000000 3.000000     335        15.444751\n4          1             1  2.000000 1010.000000 2.000000 1.000000     261        15.226498",
      "text/html": "<div>\n<style scoped>\n    .dataframe tbody tr th:only-of-type {\n        vertical-align: middle;\n    }\n\n    .dataframe tbody tr th {\n        vertical-align: top;\n    }\n\n    .dataframe thead th {\n        text-align: right;\n    }\n</style>\n<table border=\"1\" class=\"dataframe\">\n  <thead>\n    <tr style=\"text-align: right;\">\n      <th></th>\n      <th>area_type</th>\n      <th>availability</th>\n      <th>bedrooms</th>\n      <th>total_sqft</th>\n      <th>bath</th>\n      <th>balcony</th>\n      <th>ranked</th>\n      <th>price in rupees</th>\n    </tr>\n  </thead>\n  <tbody>\n    <tr>\n      <th>0</th>\n      <td>1</td>\n      <td>1</td>\n      <td>3.000000</td>\n      <td>1655.000000</td>\n      <td>3.000000</td>\n      <td>1.000000</td>\n      <td>134</td>\n      <td>16.195057</td>\n    </tr>\n    <tr>\n      <th>1</th>\n      <td>1</td>\n      <td>1</td>\n      <td>2.000000</td>\n      <td>1102.000000</td>\n      <td>2.000000</td>\n      <td>1.000000</td>\n      <td>134</td>\n      <td>15.384126</td>\n    </tr>\n    <tr>\n      <th>2</th>\n      <td>1</td>\n      <td>0</td>\n      <td>2.000000</td>\n      <td>1112.000000</td>\n      <td>2.000000</td>\n      <td>1.000000</td>\n      <td>242</td>\n      <td>15.990262</td>\n    </tr>\n    <tr>\n      <th>3</th>\n      <td>1</td>\n      <td>1</td>\n      <td>3.000000</td>\n      <td>1450.000000</td>\n      <td>3.000000</td>\n      <td>3.000000</td>\n      <td>335</td>\n      <td>15.444751</td>\n    </tr>\n    <tr>\n      <th>4</th>\n      <td>1</td>\n      <td>1</td>\n      <td>2.000000</td>\n      <td>1010.000000</td>\n      <td>2.000000</td>\n      <td>1.000000</td>\n      <td>261</td>\n      <td>15.226498</td>\n    </tr>\n  </tbody>\n</table>\n</div>"
     },
     "execution_count": 23,
     "metadata": {},
     "output_type": "execute_result"
    }
   ],
   "source": [
    "regressor_new_train.head()"
   ]
  },
  {
   "cell_type": "markdown",
   "source": [
    "<h2>Adding Residual column for the train dataset(Gradiant Boosting)"
   ],
   "metadata": {
    "collapsed": false
   }
  },
  {
   "cell_type": "code",
   "execution_count": 24,
   "outputs": [
    {
     "data": {
      "text/plain": "   area_type  availability  bedrooms  total_sqft     bath  balcony  ranked  price in rupees  residual  prediction\n0          1             1  3.000000 1655.000000 3.000000 1.000000     134        16.195057         0           0\n1          1             1  2.000000 1102.000000 2.000000 1.000000     134        15.384126         0           0\n2          1             0  2.000000 1112.000000 2.000000 1.000000     242        15.990262         0           0\n3          1             1  3.000000 1450.000000 3.000000 3.000000     335        15.444751         0           0\n4          1             1  2.000000 1010.000000 2.000000 1.000000     261        15.226498         0           0",
      "text/html": "<div>\n<style scoped>\n    .dataframe tbody tr th:only-of-type {\n        vertical-align: middle;\n    }\n\n    .dataframe tbody tr th {\n        vertical-align: top;\n    }\n\n    .dataframe thead th {\n        text-align: right;\n    }\n</style>\n<table border=\"1\" class=\"dataframe\">\n  <thead>\n    <tr style=\"text-align: right;\">\n      <th></th>\n      <th>area_type</th>\n      <th>availability</th>\n      <th>bedrooms</th>\n      <th>total_sqft</th>\n      <th>bath</th>\n      <th>balcony</th>\n      <th>ranked</th>\n      <th>price in rupees</th>\n      <th>residual</th>\n      <th>prediction</th>\n    </tr>\n  </thead>\n  <tbody>\n    <tr>\n      <th>0</th>\n      <td>1</td>\n      <td>1</td>\n      <td>3.000000</td>\n      <td>1655.000000</td>\n      <td>3.000000</td>\n      <td>1.000000</td>\n      <td>134</td>\n      <td>16.195057</td>\n      <td>0</td>\n      <td>0</td>\n    </tr>\n    <tr>\n      <th>1</th>\n      <td>1</td>\n      <td>1</td>\n      <td>2.000000</td>\n      <td>1102.000000</td>\n      <td>2.000000</td>\n      <td>1.000000</td>\n      <td>134</td>\n      <td>15.384126</td>\n      <td>0</td>\n      <td>0</td>\n    </tr>\n    <tr>\n      <th>2</th>\n      <td>1</td>\n      <td>0</td>\n      <td>2.000000</td>\n      <td>1112.000000</td>\n      <td>2.000000</td>\n      <td>1.000000</td>\n      <td>242</td>\n      <td>15.990262</td>\n      <td>0</td>\n      <td>0</td>\n    </tr>\n    <tr>\n      <th>3</th>\n      <td>1</td>\n      <td>1</td>\n      <td>3.000000</td>\n      <td>1450.000000</td>\n      <td>3.000000</td>\n      <td>3.000000</td>\n      <td>335</td>\n      <td>15.444751</td>\n      <td>0</td>\n      <td>0</td>\n    </tr>\n    <tr>\n      <th>4</th>\n      <td>1</td>\n      <td>1</td>\n      <td>2.000000</td>\n      <td>1010.000000</td>\n      <td>2.000000</td>\n      <td>1.000000</td>\n      <td>261</td>\n      <td>15.226498</td>\n      <td>0</td>\n      <td>0</td>\n    </tr>\n  </tbody>\n</table>\n</div>"
     },
     "execution_count": 24,
     "metadata": {},
     "output_type": "execute_result"
    }
   ],
   "source": [
    "gradiant_train = regressor_new_train.copy(deep=True)\n",
    "gradiant_train['residual'] = 0\n",
    "gradiant_train['prediction'] = 0\n",
    "gradiant_train.head()"
   ],
   "metadata": {
    "collapsed": false,
    "pycharm": {
     "name": "#%%\n"
    }
   }
  },
  {
   "cell_type": "markdown",
   "metadata": {},
   "source": [
    "<h2>Adding columns for the train dataset(for AdaBoost)</h2>\n",
    "\n",
    "<p>sample weight column and correct/incorrect(1,0) prediction label</p>"
   ]
  },
  {
   "cell_type": "code",
   "execution_count": 25,
   "metadata": {
    "pycharm": {
     "name": "#%%\n"
    }
   },
   "outputs": [
    {
     "data": {
      "text/plain": "  area_type  availability  bedrooms  total_sqft     bath  balcony  ranked  price in rupees  sample_weight correct\n0         B             1  3.000000 1655.000000 3.000000 1.000000     134  10800000.000000       0.000073    None\n1         B             1  2.000000 1102.000000 2.000000 1.000000     134   4800000.000000       0.000073    None\n2         B             0  2.000000 1112.000000 2.000000 1.000000     242   8800000.000000       0.000073    None\n3         B             1  3.000000 1450.000000 3.000000 3.000000     335   5100000.000000       0.000073    None\n4         B             1  2.000000 1010.000000 2.000000 1.000000     261   4100000.000000       0.000073    None",
      "text/html": "<div>\n<style scoped>\n    .dataframe tbody tr th:only-of-type {\n        vertical-align: middle;\n    }\n\n    .dataframe tbody tr th {\n        vertical-align: top;\n    }\n\n    .dataframe thead th {\n        text-align: right;\n    }\n</style>\n<table border=\"1\" class=\"dataframe\">\n  <thead>\n    <tr style=\"text-align: right;\">\n      <th></th>\n      <th>area_type</th>\n      <th>availability</th>\n      <th>bedrooms</th>\n      <th>total_sqft</th>\n      <th>bath</th>\n      <th>balcony</th>\n      <th>ranked</th>\n      <th>price in rupees</th>\n      <th>sample_weight</th>\n      <th>correct</th>\n    </tr>\n  </thead>\n  <tbody>\n    <tr>\n      <th>0</th>\n      <td>B</td>\n      <td>1</td>\n      <td>3.000000</td>\n      <td>1655.000000</td>\n      <td>3.000000</td>\n      <td>1.000000</td>\n      <td>134</td>\n      <td>10800000.000000</td>\n      <td>0.000073</td>\n      <td>None</td>\n    </tr>\n    <tr>\n      <th>1</th>\n      <td>B</td>\n      <td>1</td>\n      <td>2.000000</td>\n      <td>1102.000000</td>\n      <td>2.000000</td>\n      <td>1.000000</td>\n      <td>134</td>\n      <td>4800000.000000</td>\n      <td>0.000073</td>\n      <td>None</td>\n    </tr>\n    <tr>\n      <th>2</th>\n      <td>B</td>\n      <td>0</td>\n      <td>2.000000</td>\n      <td>1112.000000</td>\n      <td>2.000000</td>\n      <td>1.000000</td>\n      <td>242</td>\n      <td>8800000.000000</td>\n      <td>0.000073</td>\n      <td>None</td>\n    </tr>\n    <tr>\n      <th>3</th>\n      <td>B</td>\n      <td>1</td>\n      <td>3.000000</td>\n      <td>1450.000000</td>\n      <td>3.000000</td>\n      <td>3.000000</td>\n      <td>335</td>\n      <td>5100000.000000</td>\n      <td>0.000073</td>\n      <td>None</td>\n    </tr>\n    <tr>\n      <th>4</th>\n      <td>B</td>\n      <td>1</td>\n      <td>2.000000</td>\n      <td>1010.000000</td>\n      <td>2.000000</td>\n      <td>1.000000</td>\n      <td>261</td>\n      <td>4100000.000000</td>\n      <td>0.000073</td>\n      <td>None</td>\n    </tr>\n  </tbody>\n</table>\n</div>"
     },
     "execution_count": 25,
     "metadata": {},
     "output_type": "execute_result"
    }
   ],
   "source": [
    "#########giving sample weight column and correct/incorrect prediction label for the train dataset(for AdaBoost)\n",
    "ada_train_Set = new_Train.copy(deep=True)\n",
    "ada_train_Set['sample_weight'] = None\n",
    "ada_train_Set['correct'] = None\n",
    "ada_train_Set = ada_train_Set.assign(sample_weight = 1/len(new_Train))\n",
    "pd.set_option('display.float_format', lambda x: '%.6f' % x)\n",
    "ada_train_Set.head()"
   ]
  },
  {
   "cell_type": "markdown",
   "metadata": {},
   "source": [
    "<h1 id=\"Section A\">Section A(Coding)</h1>\n",
    "\n",
    "<p>Our implementation for Decision Tree (classifier and regressor) algorithm<br>\n",
    "and an AdaBoost (classifier) algorithm<br></p>\n"
   ]
  },
  {
   "cell_type": "markdown",
   "metadata": {},
   "source": [
    "<h2>Classify Tree Node</h2>\n",
    "\n",
    "<p>\n",
    "we chose to use gini as a metric to feature split impurity.<br>\n",
    "let P be num of class 1 and B be num class 2 in a given node after split so:<br><br>\n",
    "$\\large Gini = 1 - (\\dfrac{P}{P+B})^2 - (\\dfrac{B}{P+B})^2$<br><br>\n",
    "let GL be the Gini of left node and GR  be the Gini of the right Node <br>\n",
    "and NL be the num of samples in the left node and NR be the num of samples in the right node so: <br><br>\n",
    "$\\large Total\\hspace{0.1cm}Gini = (\\dfrac{NL}{NL+NR})*GL + (\\dfrac{NR}{NL+NR})*GR$<br><br>\n",
    "\n",
    "The lower the value the better the value of the feature for the split.(range from 0 -> 1).<br>\n",
    "</p>"
   ]
  },
  {
   "cell_type": "code",
   "execution_count": 26,
   "metadata": {
    "pycharm": {
     "name": "#%%\n"
    }
   },
   "outputs": [],
   "source": [
    "class ClassifyTreeNode:\n",
    "\n",
    "    #init treenode\n",
    "    def __init__(self, info, node_depth, left = None, right = None):\n",
    "        #dataframe of the node\n",
    "        self.info = info\n",
    "        self.info_vals = self.info.values\n",
    "        #node left son\n",
    "        self.left = left\n",
    "\n",
    "        #node right son\n",
    "        self.right = right\n",
    "\n",
    "        #node depth\n",
    "        self.depth = node_depth\n",
    "\n",
    "        #initilaize best split feature name and value and gini\n",
    "        self.split_feat_name = \"\"\n",
    "        self.split_feat_val = 0\n",
    "        #gini for splitting(calculated in choose_split_feat_val)\n",
    "        self.gini_score = 1\n",
    "        #the gini score of the node\n",
    "        self.gini_self = self.calc_gini_node(self.info_vals)\n",
    "        #is a leaf\n",
    "        self.is_leaf = False\n",
    "\n",
    "        #predicted class(if node is leaf)\n",
    "        self.predicted_Class = \"\"\n",
    "\n",
    "        #a dictionary with numeric features as key and avg of adjacent values\n",
    "        self.features_avg_dict = {}\n",
    "\n",
    "\n",
    "    #print treenode\n",
    "    def __str__(self):\n",
    "        return str(\"\\nfeature name:\\n\" +  str(self.split_feat_name) + \"\\nfeature val:\\n\" + str(self.split_feat_val) + \"\\npredicted class:\\n\" + str(self.predicted_Class))\n",
    "\n",
    "    #count num of samples of any class in this node\n",
    "    def count_class_num(self,data):\n",
    "        label_column = data[:, classify_y]\n",
    "        _,counts = np.unique(label_column, return_counts=True)\n",
    "        #counts[0] = B counts[1] = P \n",
    "        if len(counts) == 2:\n",
    "            return counts[0], counts[1]\n",
    "        elif len(counts) == 1:\n",
    "            if _[0] == classes[0]:\n",
    "                return counts[0], 0\n",
    "            else:\n",
    "                return 0 , counts[0]\n",
    "        return 0, 0\n",
    "\n",
    "    #count num of total samples in the node\n",
    "    def count_total_num(self,data):\n",
    "        return len(data)\n",
    "\n",
    "    #calc gini value of the node\n",
    "    def calc_gini_node(self, data):\n",
    "        b_num, p_num = self.count_class_num(data)\n",
    "        #if node is empty\n",
    "        if b_num == 0 and p_num == 0:\n",
    "            return 1\n",
    "        #else\n",
    "        probabilities_b = b_num/(b_num+ p_num)\n",
    "        probabilities_p = p_num/(b_num+ p_num)\n",
    "        return 1 - np.power(probabilities_b, 2) - np.power(probabilities_p, 2)\n",
    "\n",
    "    #calc gini score for each feature\n",
    "    #select the best feature and its value for splitting the node based on the\n",
    "    #best gini score's of all the values if each feature\n",
    "    def calc_gini_score_for_all(self):\n",
    "\n",
    "        self.calc_feat_avg()\n",
    "        min_gini = 1\n",
    "        feat_val = 0\n",
    "        feat_index = -1\n",
    "        feat_gini = 1\n",
    "        #if feature is categorical\n",
    "        for f in categoricals_list:\n",
    "            node = self\n",
    "            right, left = self.split_data_categorial(self.info_vals,f,1)\n",
    "            feat_gini = self.calc_gini_split(node, left, right)\n",
    "            feat_index = f\n",
    "            feat_val = 1\n",
    "            if feat_gini < min_gini and feat_gini < self.gini_self:\n",
    "                self.split_feat_name = feat_index\n",
    "                self.split_feat_val = feat_val\n",
    "                self.gini_score = feat_gini\n",
    "                min_gini = feat_gini\n",
    "        #if feature is numeric\n",
    "        for f in numeric_list:\n",
    "            node = self\n",
    "            for feat_val in self.features_avg_dict[f]:\n",
    "                right, left = self.split_data_numeric(self.info_vals,f,feat_val)\n",
    "                feat_gini = self.calc_gini_split(node, left, right)\n",
    "                feat_index = f\n",
    "                feat_numeric_val = feat_val\n",
    "                if feat_gini < min_gini and feat_gini < self.gini_self:\n",
    "                    self.split_feat_name = feat_index\n",
    "                    self.split_feat_val = feat_numeric_val\n",
    "                    self.gini_score = feat_gini\n",
    "                    min_gini = feat_gini\n",
    "\n",
    "    # calc gini score\n",
    "    def calc_gini_split(self, node, left, right):\n",
    "        All = node.count_total_num(node.info_vals)\n",
    "        left_num = node.count_total_num(left)\n",
    "        right_num = All - left_num\n",
    "\n",
    "        return (left_num / All) * node.calc_gini_node(left) + (right_num / All) * node.calc_gini_node(right)\n",
    "\n",
    "    #calc avg of adjacent values of each feature\n",
    "    def calc_feat_avg(self):\n",
    "        length = len(numeric_list)\n",
    "        for i in range(0, length):\n",
    "            avg_set = []\n",
    "            info_arr = self.info.values\n",
    "            vals = info_arr[:,numeric_list[i]]\n",
    "            valsSet = np.unique(vals)\n",
    "            arr_size = valsSet.size\n",
    "            for j in range(0, arr_size - 1):\n",
    "                avg_set.append((valsSet[j] + valsSet[j + 1]) / 2)\n",
    "            self.features_avg_dict[numeric_list[i]] = avg_set\n",
    "\n",
    "\n",
    "    #split data based on chosen feature and value\n",
    "    #and return the 2 new dataframes\n",
    "    def split_data_numeric(self, data, feature_index, split_value):\n",
    "        split_column_values = data[:, feature_index]\n",
    "        right = data[split_column_values <= split_value]\n",
    "        left = data[split_column_values > split_value]\n",
    "        return right,left\n",
    "\n",
    "    def split_data_categorial(self, data, feature_index, split_value):\n",
    "        split_column_values = data[:, feature_index]\n",
    "        right = data[split_column_values != split_value]\n",
    "        left = data[split_column_values == split_value]\n",
    "        return right,left"
   ]
  },
  {
   "cell_type": "markdown",
   "metadata": {},
   "source": [
    "<h2>Regression node</h2>\n",
    "\n",
    "<p>\n",
    "we chose to use SSR as our way to evaluate the split quality of a feature in a regression modules.<br>\n",
    "let N be num of the testing samples, Y the true value of the Y label and $\\hat{Y}$ be our prediction value for a certain sample, therefor:<br><br>\n",
    "$\\large SSR = \\sum_{n=0}^{N} (Y- \\hat{Y})^2$<br><br>\n",
    "The lower the value the better the value of the feature for the split.\n",
    "</p>"
   ]
  },
  {
   "cell_type": "code",
   "execution_count": 27,
   "metadata": {
    "pycharm": {
     "name": "#%%\n"
    }
   },
   "outputs": [],
   "source": [
    "class RegressionTreeNode:\n",
    "\n",
    "    #init the node\n",
    "    def __init__(self, info, node_depth, ylabel, left = None, right = None):\n",
    "        #dataframe of the node\n",
    "        self.info = info\n",
    "        self.info_vals = self.info.to_numpy()\n",
    "\n",
    "        #node left son\n",
    "        self.left = left\n",
    "\n",
    "        #node right son\n",
    "        self.right = right\n",
    "\n",
    "        #node depth\n",
    "        self.depth = node_depth\n",
    "\n",
    "        self.regressor_y = ylabel\n",
    "        #initilaize best split feature name and value and SSR\n",
    "        self.split_feat_name = \"\"\n",
    "        self.split_feat_val = 0\n",
    "        #SSR for splitting(calculated in choose_split_feat_val)\n",
    "        self.SSR_score = 1\n",
    "        #predicted value(if node is leaf)\n",
    "        self.predicted_value = np.mean(self.info_vals[:,self.regressor_y])\n",
    "\n",
    "        #is a leaf\n",
    "        self.is_leaf = False\n",
    "\n",
    "        #a dictionary with numeric features as key and avg of adjacent values\n",
    "        self.features_avg_dict = dict()\n",
    "\n",
    "    #print tree node\n",
    "    def __str__(self):\n",
    "        return str(\"\\nfeature name:\\n\" +  str(self.split_feat_name) + \"\\nfeature val:\\n\" + str(self.split_feat_val) + \"\\npredicted value:\\n\" + str(self.predicted_value))\n",
    "\n",
    "    #calc the SSR of a given node\n",
    "    def calc_SSR(self,data):\n",
    "\n",
    "        sum = 0\n",
    "        mean = np.mean(data[:,self.regressor_y])\n",
    "        for i in data:\n",
    "            sum +=(i[self.regressor_y] - mean)**2\n",
    "        return sum\n",
    "\n",
    "    #calc avg of adjacent values of each feature\n",
    "    def calc_feat_avg(self):\n",
    "\n",
    "        lenght = len(reg_numeric_list)\n",
    "        for i in range(0, lenght):\n",
    "            avg_set = []\n",
    "            info_arr = self.info_vals\n",
    "            vals = info_arr[:,reg_numeric_list[i]]\n",
    "            valsSet = np.unique(vals)\n",
    "            arr_size = valsSet.size\n",
    "            for j in range(0, arr_size - 1):\n",
    "                avg_set.append((valsSet[j] + valsSet[j + 1]) / 2)\n",
    "            self.features_avg_dict[reg_numeric_list[i]] = avg_set\n",
    "\n",
    "    #calc SSR score for each feature\n",
    "    #select the best feature and its value for splitting the node based on the\n",
    "    #best SSR score's of all the values of each feature\n",
    "    def calc_SSR_score_for_all(self):\n",
    "\n",
    "        self.calc_feat_avg()\n",
    "        min_ssr = float('inf')\n",
    "        feat_val = 0\n",
    "        feat_name = \"\"\n",
    "        feat_ssr = float('inf')\n",
    "        #if feature is categorical\n",
    "        for f in reg_categoricals_list:\n",
    "            node = self\n",
    "            right, left = self.split_data_categorial(self.info_vals,f,1)\n",
    "            feat_name = f\n",
    "            feat_val = 1\n",
    "            feat_ssr = node.calc_SSR(left) + node.calc_SSR(right)\n",
    "            if feat_ssr < min_ssr:\n",
    "                self.split_feat_name = feat_name\n",
    "                self.split_feat_val = feat_val\n",
    "                self.SSR_score = feat_ssr\n",
    "                min_ssr = feat_ssr\n",
    "        #if feature is numeric\n",
    "        for f in reg_numeric_list:\n",
    "            node = self\n",
    "            for feat_avg_val in self.features_avg_dict[f]:\n",
    "                right, left = self.split_data_numeric(self.info_vals,f,feat_avg_val)\n",
    "                feat_ssr = node.calc_SSR(left) + node.calc_SSR(right)\n",
    "                if feat_ssr < min_ssr:\n",
    "                    self.split_feat_name = f\n",
    "                    self.split_feat_val = feat_avg_val\n",
    "                    self.SSR_score = feat_ssr\n",
    "                    min_ssr = feat_ssr\n",
    "\n",
    "    #split data based on chosen feature and value\n",
    "    #and return the 2 new dataframes\n",
    "    def split_data_numeric(self, data, feature_index, split_value):\n",
    "        split_column_values = data[:, feature_index]\n",
    "        right = data[split_column_values <= split_value]\n",
    "        left = data[split_column_values > split_value]\n",
    "        return right,left\n",
    "\n",
    "    #split_value = 1(default)\n",
    "    def split_data_categorial(self, data, feature_index, split_value):\n",
    "        split_column_values = data[:, feature_index]\n",
    "        right = data[split_column_values != split_value]\n",
    "        left = data[split_column_values == split_value]\n",
    "        return right,left"
   ]
  },
  {
   "cell_type": "markdown",
   "metadata": {},
   "source": [
    "<h2>Classify Tree</h2>"
   ]
  },
  {
   "cell_type": "code",
   "execution_count": 28,
   "metadata": {
    "pycharm": {
     "name": "#%%\n"
    }
   },
   "outputs": [],
   "source": [
    "class ClassifyTree:\n",
    "\n",
    "    #init ClassifyTree\n",
    "    def __init__(self, info,classify_max_depth,classify_min_samples):\n",
    "        #root of the tree\n",
    "        self.root = ClassifyTreeNode(info,0,None,None)\n",
    "\n",
    "        #max depth of the tree\n",
    "        self.max_depth = classify_max_depth\n",
    "\n",
    "        #min samples per node\n",
    "        self.min_samples = classify_min_samples\n",
    "\n",
    "    #spliting the node to 2 dataset based on the selected feature\n",
    "    def split(self,node):\n",
    "        try:\n",
    "            node.calc_gini_score_for_all()\n",
    "        except IndexError:\n",
    "            self.set_leaf_vals(node)\n",
    "            return\n",
    "        if node.gini_self > node.gini_score:\n",
    "            if node.split_feat_name in  categoricals_list:\n",
    "                left_info = node.info.loc[node.info_vals[:,node.split_feat_name] == node.split_feat_val]\n",
    "                right_info = node.info.loc[node.info_vals[:,node.split_feat_name] != node.split_feat_val]\n",
    "            else:\n",
    "                left_info = node.info.loc[node.info_vals[:,node.split_feat_name] >= node.split_feat_val]\n",
    "                right_info = node.info.loc[node.info_vals[:,node.split_feat_name] < node.split_feat_val]\n",
    "            node.left = ClassifyTreeNode(left_info, node.depth + 1, None, None)\n",
    "            node.right = ClassifyTreeNode(right_info, node.depth + 1, None, None)\n",
    "\n",
    "    #by a given node return true if we should continue splitting the node based on the hyper parameters\n",
    "    #otherwise return false\n",
    "    def to_split(self,node):\n",
    "\n",
    "        total_num = 0\n",
    "        #check if node is pure\n",
    "        b_class , p_class = node.count_class_num(node.info_vals)\n",
    "        if b_class == 0 or p_class == 0 :\n",
    "                return False\n",
    "        else:\n",
    "            total_num = b_class + p_class\n",
    "        #check hyper params\n",
    "        if total_num >= self.min_samples and node.depth < self.max_depth:\n",
    "            return True\n",
    "        return False\n",
    "\n",
    "    #setting values of a leaf\n",
    "    def set_leaf_vals(self, node):\n",
    "        node.is_leaf = True\n",
    "        class_a , class_b= node.count_class_num(node.info_vals)\n",
    "        node.predicted_Class = classes[0] if class_a >= class_b else classes[1]\n",
    "\n",
    "    #build the tree\n",
    "    def build(self,node):\n",
    "        if node is not None:\n",
    "            if self.to_split(node):\n",
    "                self.split(node)\n",
    "                if node.left is not None and node.right is not None:\n",
    "                    self.build(node.left)\n",
    "                    self.build(node.right)\n",
    "            else:\n",
    "                self.set_leaf_vals(node)\n",
    "\n",
    "    #predict a class of a given sample\n",
    "    def predict(self,node,sample):\n",
    "        if node is not None and sample is not None:\n",
    "            if not node.is_leaf:\n",
    "                if sample[node.split_feat_name] >= node.split_feat_val:\n",
    "                    return self.predict(node.left,sample)\n",
    "                else:\n",
    "                    return self.predict(node.right,sample)\n",
    "            else:\n",
    "                return node.predicted_Class"
   ]
  },
  {
   "cell_type": "markdown",
   "metadata": {},
   "source": [
    "<h2>Regression Tree</h2>"
   ]
  },
  {
   "cell_type": "code",
   "execution_count": 29,
   "metadata": {
    "pycharm": {
     "name": "#%%\n"
    }
   },
   "outputs": [],
   "source": [
    "class RegressionTree:\n",
    "\n",
    "    #init ClassifyTree\n",
    "    def __init__(self, info,max_tree_depth,leaf_min_samples,ylabel):\n",
    "        #root of the tree\n",
    "        self.root = RegressionTreeNode(info,0,ylabel,None,None)\n",
    "\n",
    "        #max depth of the tree\n",
    "        self.max_depth = max_tree_depth\n",
    "\n",
    "        #min samples per node\n",
    "        self.min_samples = leaf_min_samples\n",
    "\n",
    "        #the feature we want to predict its value\n",
    "        self.regressor_y = ylabel\n",
    "\n",
    "    #spliting the node to 2 dataset based on the selected feature\n",
    "    def split(self,node):\n",
    "\n",
    "        node.calc_SSR_score_for_all()\n",
    "\n",
    "        if node.split_feat_name in  reg_categoricals_list:\n",
    "            left_info = node.info.loc[node.info_vals[:,node.split_feat_name] == node.split_feat_val]\n",
    "            right_info = node.info.loc[node.info_vals[:,node.split_feat_name] != node.split_feat_val]\n",
    "        else:\n",
    "            left_info = node.info.loc[node.info_vals[:,node.split_feat_name] >= node.split_feat_val]\n",
    "            right_info = node.info.loc[node.info_vals[:,node.split_feat_name] < node.split_feat_val]\n",
    "        node.left = RegressionTreeNode(left_info, node.depth + 1,self.regressor_y, None, None)\n",
    "        node.right = RegressionTreeNode(right_info, node.depth + 1,self.regressor_y, None, None)\n",
    "\n",
    "    #by a given node return true if we should continue splitting the node based on the hyper parameters\n",
    "    #otherwise return false\n",
    "    def to_split(self,node):\n",
    "        #check hyper params\n",
    "        if len(node.info) >= self.min_samples and node.depth < self.max_depth:\n",
    "            return True\n",
    "        return False\n",
    "\n",
    "    #setting values of a leaf\n",
    "    def set_leaf_vals(self, node):\n",
    "        node.is_leaf = True\n",
    "\n",
    "    #build the tree\n",
    "    def build(self,node):\n",
    "        if node is not None:\n",
    "            if self.to_split(node):\n",
    "                self.split(node)\n",
    "                if node.left is not None and node.right is not None:\n",
    "                    self.build(node.left)\n",
    "                    self.build(node.right)\n",
    "            else:\n",
    "                self.set_leaf_vals(node)\n",
    "\n",
    "    #predict a house price of a given sample\n",
    "    #node is the root at the first call to this function\n",
    "    def predict(self,node,sample):\n",
    "        if node is not None and sample is not None:\n",
    "            if not node.is_leaf:\n",
    "                if sample[node.split_feat_name] >= node.split_feat_val:\n",
    "                    return self.predict(node.left,sample)\n",
    "                else:\n",
    "                    return self.predict(node.right,sample)\n",
    "            else:\n",
    "                return node.predicted_value"
   ]
  },
  {
   "cell_type": "markdown",
   "metadata": {},
   "source": [
    "<h2>Stump</h2>"
   ]
  },
  {
   "cell_type": "code",
   "execution_count": 30,
   "metadata": {
    "pycharm": {
     "name": "#%%\n"
    }
   },
   "outputs": [],
   "source": [
    "class Stump:\n",
    "\n",
    "    def __init__(self,data):\n",
    "\n",
    "        #sum of weights of all misclassified samples\n",
    "        self.total_error = 0\n",
    "\n",
    "        #weight of the stump\n",
    "        self.stump_weight = 0\n",
    "\n",
    "        #stump root\n",
    "        self.root = ClassifyTreeNode(data,0,None,None)\n",
    "\n",
    "    #split the data based on the calculated best feature and its val\n",
    "    def split(self):\n",
    "\n",
    "        #find best split feature and val for split\n",
    "        self.root.calc_gini_score_for_all()\n",
    "\n",
    "        if self.root.gini_self > self.root.gini_score:\n",
    "            #spliting the data frame\n",
    "            if self.root.split_feat_name in  categoricals_list:\n",
    "                left_info = self.root.info.loc[self.root.info_vals[:,self.root.split_feat_name] == self.root.split_feat_val]\n",
    "                right_info = self.root.info.loc[self.root.info_vals[:,self.root.split_feat_name] != self.root.split_feat_val]\n",
    "            else:\n",
    "                left_info = self.root.info.loc[self.root.info_vals[:,self.root.split_feat_name] >= self.root.split_feat_val]\n",
    "                right_info = self.root.info.loc[self.root.info_vals[:,self.root.split_feat_name] < self.root.split_feat_val]\n",
    "\n",
    "            #creating children\n",
    "            self.root.left = ClassifyTreeNode(left_info, self.root.depth + 1, None, None)\n",
    "            self.root.right = ClassifyTreeNode(right_info, self.root.depth + 1, None, None)\n",
    "\n",
    "            #setting leaf values\n",
    "            self.set_leaf_vals(self.root.left)\n",
    "            self.set_leaf_vals(self.root.right)\n",
    "\n",
    "    #setting values of a leaf\n",
    "    def set_leaf_vals(self, node):\n",
    "\n",
    "        node.is_leaf = True\n",
    "        class_a , class_b= node.count_class_num(node.info_vals)\n",
    "        node.predicted_Class = classes[0] if class_a > class_b else classes[1]\n",
    "\n",
    "    #predicting sample class\n",
    "    def predict(self, sample):\n",
    "\n",
    "        #self.root.split_feat_name != \"\" refers to the case that the gini score of the selected feature is higher\n",
    "        #from the gini of the node there for we did not split the node\n",
    "        #or if the root node is pure\n",
    "        #reference to this if statment in function calc gini score for all in classify tree node:\n",
    "        #feat_gini < min_gini and feat_gini < self.gini_self\n",
    "        if sample is not None and self.root.split_feat_name != \"\":\n",
    "            if sample[self.root.split_feat_name] >= self.root.split_feat_val:\n",
    "                return self.root.left.predicted_Class\n",
    "            else:\n",
    "                return self.root.right.predicted_Class\n",
    "\n",
    "        #in case all samples in the stump data belong to the same class or if we did not split the node\n",
    "        else:\n",
    "            class_a , class_b= self.root.count_class_num(self.root.info_vals)\n",
    "            return class_a if class_a > class_b  else  class_b\n",
    "\n",
    "    #calc total error\n",
    "    def calc_total_error(self, data):\n",
    "\n",
    "         for i in range(0,len(data.index)):\n",
    "            prediction = self.predict(data.iloc[i])\n",
    "            if data.iloc[i][classify_y] == prediction:\n",
    "                data.iat[i, 9] = 1\n",
    "            else:\n",
    "                data.iat[i, 9] = 0\n",
    "                self.total_error += data.iloc[i]['sample_weight']\n",
    "\n",
    "    #calc weight of the stump\n",
    "    def calc_stump_weight(self):\n",
    "        #the log formula for calculating the stump weight cannot get total error of 1 or 0\n",
    "        #edge case that the stump classified correctly all the samples\n",
    "        if self.total_error <= 0:\n",
    "            self.total_error = 0.000073\n",
    "        #edge case that the stump classified incorrectly all the samples\n",
    "        elif self.total_error >= 1:\n",
    "            self.total_error = 0.99\n",
    "        self.stump_weight = 0.5*math.log((1 - self.total_error)/self.total_error)"
   ]
  },
  {
   "cell_type": "markdown",
   "metadata": {},
   "source": [
    "<h2>AdaBoost</h2>"
   ]
  },
  {
   "cell_type": "code",
   "execution_count": 31,
   "metadata": {
    "pycharm": {
     "name": "#%%\n"
    }
   },
   "outputs": [],
   "source": [
    "class AdaBoost:\n",
    "\n",
    "    def __init__(self, data, estimators_num):\n",
    "\n",
    "        #array for storing the stumps\n",
    "        self.stump_arr = np.array([])\n",
    "\n",
    "        #train data\n",
    "        self.data = data\n",
    "\n",
    "        #num of stumps we want to create\n",
    "        self.n_estimators =  estimators_num\n",
    "\n",
    "\n",
    "    #create all the estimators\n",
    "    def fit(self):\n",
    "\n",
    "        stump_data = self.data\n",
    "        for i in range(0,self.n_estimators):\n",
    "            self.create_stump(stump_data)\n",
    "            self.evaluate_stump(i)\n",
    "            self.data = self.update_weights(self.data,i)\n",
    "            ranges_list = self.arrange_by_ranges(self.data)\n",
    "            stump_data = self.create_dataset(ranges_list)\n",
    "\n",
    "    #predict class of a given sample\n",
    "    def  predict(self,sample):\n",
    "\n",
    "        class_a = 0\n",
    "        class_b = 0\n",
    "        for i in range(0,self.n_estimators):\n",
    "            prediction = self.stump_arr[i].predict(sample)\n",
    "\n",
    "            if prediction == classes[0]:\n",
    "                class_a += self.stump_arr[i].stump_weight\n",
    "            else:\n",
    "                class_b += self.stump_arr[i].stump_weight\n",
    "        if class_a > class_b:\n",
    "            return classes[0]\n",
    "        return classes[1]\n",
    "\n",
    "    #create a new dataset based on the new weights\n",
    "    def create_dataset(self, data):\n",
    "\n",
    "        new_dataset = pd.DataFrame()\n",
    "        data_len = len(self.data.index)\n",
    "\n",
    "        for i in range(0,data_len):\n",
    "            rand_float = random.uniform(0, 1)\n",
    "            index = self.ranges_binary_search(data,rand_float,0,len(data))\n",
    "            new_dataset = new_dataset.append(self.data.iloc[index])\n",
    "\n",
    "        return new_dataset\n",
    "\n",
    "    #create a stump and add it to the stump array\n",
    "    def create_stump(self,data):\n",
    "\n",
    "        stump = Stump(data)\n",
    "        stump.split()\n",
    "        self.stump_arr = numpy.append(self.stump_arr, stump)\n",
    "\n",
    "    #evaluate a given stump\n",
    "    def evaluate_stump(self,stump_index):\n",
    "\n",
    "        self.stump_arr[stump_index].calc_total_error(self.data)\n",
    "        self.stump_arr[stump_index].calc_stump_weight()\n",
    "\n",
    "\n",
    "    #calc new weights for samples based on prediction of a stump and return the updated dataframe\n",
    "    def update_weights(self,data,stump_index):\n",
    "\n",
    "        weights_sum = 0\n",
    "        for i in range(0,len(data.index)):\n",
    "\n",
    "            #decrease weight of correctly classified samples\n",
    "            if data.iloc[i]['correct'] == 1:\n",
    "                data.iat[i, 8] = data.iloc[i]['sample_weight'] *(e ** ( - self.stump_arr[stump_index].stump_weight ))\n",
    "            #increase weight of incorrectly classified samples\n",
    "            else:\n",
    "                data.iat[i, 8] = data.iloc[i]['sample_weight'] *(e ** self.stump_arr[stump_index].stump_weight)\n",
    "\n",
    "            weights_sum += data.iloc[i]['sample_weight']\n",
    "\n",
    "        #normilaize weights\n",
    "        for i in range(0,len(data.index)):\n",
    "             data.iat[i, 8] = data.iloc[i]['sample_weight']/weights_sum\n",
    "\n",
    "        return data\n",
    "\n",
    "\n",
    "    #arrange samples ranges in an array\n",
    "    def arrange_by_ranges(self, data):\n",
    "\n",
    "        ranges_list = list()\n",
    "        ranges = 0\n",
    "\n",
    "        for i in range(0,len(data.index)):\n",
    "            before = ranges\n",
    "            ranges += data.iloc[i]['sample_weight']\n",
    "            to_insert = [before,ranges]\n",
    "            ranges_list.append(to_insert)\n",
    "\n",
    "        return ranges_list\n",
    "\n",
    "\n",
    "    #return the index of the  range which k is between\n",
    "    def ranges_binary_search(self,rang_list,k,start,end):\n",
    "\n",
    "        #stop condition(not suppose to happen)\n",
    "        if start > end:\n",
    "            return -1\n",
    "\n",
    "        #edge case\n",
    "        if k == 0:\n",
    "            return 0\n",
    "\n",
    "        mid = int((end+start)/2)\n",
    "\n",
    "        #rang_list[mid][0] = start of the sample range in the mid-index of  the #ranges_list\n",
    "        #rang_list[mid][1] = end of the sample range in the mid-index of  the #ranges_list\n",
    "        if rang_list[mid][0] < k <= rang_list[mid][1]:\n",
    "            return mid\n",
    "\n",
    "        elif rang_list[mid][1] < k:\n",
    "            return  self.ranges_binary_search(rang_list,k,mid + 1,end)\n",
    "\n",
    "        return self.ranges_binary_search(rang_list,k,start,mid - 1)"
   ]
  },
  {
   "cell_type": "markdown",
   "source": [
    "<h2>Gradiant Boost(Section D1)</h2>"
   ],
   "metadata": {
    "collapsed": false
   }
  },
  {
   "cell_type": "code",
   "execution_count": 32,
   "outputs": [],
   "source": [
    "class GradiantBoost:\n",
    "\n",
    "    def __init__(self,data,learing_rate,grad_max_depth,estimators_num, ylabel,residual_label,yname,grad_min_samples,prediction_index):\n",
    "\n",
    "        #train dataframe\n",
    "        self.data = data\n",
    "\n",
    "        #max depth of a tree\n",
    "        self.max_depth = grad_max_depth\n",
    "\n",
    "        #learnig rate\n",
    "        self.learing_rate = learing_rate\n",
    "\n",
    "        #min samples for split\n",
    "        self.grad_min_samples = grad_min_samples\n",
    "\n",
    "        #num of estimatores\n",
    "        self.estimators = estimators_num\n",
    "\n",
    "        #index of the y label\n",
    "        self.regressor_y = ylabel\n",
    "\n",
    "        #residial label index\n",
    "        self.residual = residual_label\n",
    "\n",
    "        #y label name(for dataframe.loc function)\n",
    "        self.y_name = yname\n",
    "\n",
    "        #index of the prediction collumn of each sample\n",
    "        self.prediction_index = prediction_index\n",
    "\n",
    "        #array of estimators\n",
    "        self.estimators_arr = np.array([])\n",
    "\n",
    "        #initial predicted value\n",
    "        self.initial_value = self.data.iloc[:,self.regressor_y].values.mean()\n",
    "\n",
    "        self.data = self.data.assign(residual = self.data[self.y_name] - self.initial_value)\n",
    "        self.data = self.data.assign(prediction = self.initial_value)\n",
    "\n",
    "    #create a new tree\n",
    "    def create_tree(self):\n",
    "        reg_tree = RegressionTree(self.data,self.max_depth,self.grad_min_samples,self.residual)\n",
    "        reg_tree.build(reg_tree.root)\n",
    "        self.estimators_arr = numpy.append(self.estimators_arr, reg_tree)\n",
    "\n",
    "    #update residual after creating a new tree\n",
    "    def update_residuals(self,index):\n",
    "\n",
    "        for row in range(0,len(self.data)):\n",
    "            predict = self.estimators_arr[index].predict(self.estimators_arr[index].root,self.data.iloc[row])\n",
    "            self.data.iat[row, self.prediction_index] = self.data.iloc[row][self.prediction_index] + predict * self.learing_rate\n",
    "            self.data.iat[row,self.residual] = self.data.iloc[row][regressor_y] - (self.data.iloc[row][self.prediction_index])\n",
    "            \n",
    "    #building the module\n",
    "    def fit(self):\n",
    "\n",
    "        for i in range(0,self.estimators):\n",
    "            self.create_tree()#create a new tree and add it to the estimators array\n",
    "            self.update_residuals(i)#update the residuals of the samples\n",
    "\n",
    "    #predict a house price of a given sample\n",
    "    def predict(self,sample):\n",
    "\n",
    "        prediction = 0\n",
    "        for i in self.estimators_arr:\n",
    "                predict = i.predict(i.root,sample)\n",
    "                prediction += predict * self.learing_rate\n",
    "        return self.initial_value + prediction"
   ],
   "metadata": {
    "collapsed": false,
    "pycharm": {
     "name": "#%%\n"
    }
   }
  },
  {
   "cell_type": "markdown",
   "metadata": {},
   "source": [
    "<h1>main section</h1>\n",
    "<span id=\"Section B\"></span>"
   ]
  },
  {
   "cell_type": "markdown",
   "metadata": {},
   "source": [
    "<h2>Building the classify tree</h2>"
   ]
  },
  {
   "cell_type": "code",
   "execution_count": 41,
   "metadata": {
    "pycharm": {
     "name": "#%%\n"
    }
   },
   "outputs": [
    {
     "name": "stdout",
     "output_type": "stream",
     "text": [
      "---starting classify tree grid search....\n",
      "building classify tree started...\n",
      "building classify tree ended in 178.02604937553406 seconds\n",
      "building classify tree started...\n",
      "building classify tree ended in 177.89148831367493 seconds\n",
      "building classify tree started...\n",
      "building classify tree ended in 218.3826401233673 seconds\n",
      "building classify tree started...\n",
      "building classify tree ended in 218.08837914466858 seconds\n",
      "---ended classify tree grid search....\n"
     ]
    }
   ],
   "source": [
    "#building the module\n",
    "print(\"---starting classify tree grid search....\")\n",
    "classify_tree = classify_grid_search(new_Train,validation,max_depth,min_samples)\n",
    "print(\"---ended classify tree grid search....\")"
   ]
  },
  {
   "cell_type": "markdown",
   "metadata": {},
   "source": [
    "<h2>predicting and evaluating the module</h2>\n"
   ]
  },
  {
   "cell_type": "code",
   "execution_count": 42,
   "metadata": {
    "pycharm": {
     "name": "#%%\n"
    }
   },
   "outputs": [
    {
     "name": "stdout",
     "output_type": "stream",
     "text": [
      "          max_depth:  min samples for split:\n",
      "selected           7                       4\n",
      "predicting\n",
      "       TRUE B  TRUE P  FALSE B  FALSE P\n",
      "count    2037     254       96      126\n"
     ]
    },
    {
     "data": {
      "text/plain": "       accuracy  sensitivity  specificity  precision\nvalue     0.912        0.942        0.726      0.955",
      "text/html": "<div>\n<style scoped>\n    .dataframe tbody tr th:only-of-type {\n        vertical-align: middle;\n    }\n\n    .dataframe tbody tr th {\n        vertical-align: top;\n    }\n\n    .dataframe thead th {\n        text-align: right;\n    }\n</style>\n<table border=\"1\" class=\"dataframe\">\n  <thead>\n    <tr style=\"text-align: right;\">\n      <th></th>\n      <th>accuracy</th>\n      <th>sensitivity</th>\n      <th>specificity</th>\n      <th>precision</th>\n    </tr>\n  </thead>\n  <tbody>\n    <tr>\n      <th>value</th>\n      <td>0.912</td>\n      <td>0.942</td>\n      <td>0.726</td>\n      <td>0.955</td>\n    </tr>\n  </tbody>\n</table>\n</div>"
     },
     "execution_count": 42,
     "metadata": {},
     "output_type": "execute_result"
    }
   ],
   "source": [
    "#predicting\n",
    "\n",
    "#selected hyperparameters\n",
    "selected_params = {\"max_depth:\":classify_tree.max_depth,\"min samples for split:\":classify_tree.min_samples}\n",
    "print(pd.DataFrame(data=selected_params, index=['selected']))\n",
    "\n",
    "classify_test = test.copy(deep=True)\n",
    "classify_test = classify_test.drop(['Unnamed: 0'], axis=1)\n",
    "print(\"predicting\")\n",
    "eval = Evaluation()\n",
    "eval.predicting(classify_test,classify_tree)\n",
    "\n",
    "#evaluating\n",
    "eval_Df = {\"TRUE B\": eval.TA, \"TRUE P\": eval.TB, \"FALSE B\": eval.FA, \"FALSE P\":eval.FB}\n",
    "print(pd.DataFrame(data=eval_Df, index=['count']))\n",
    "eval_Df = {\"accuracy\": eval.accuracy, \"sensitivity\": eval.sensitivity, \"specificity\": eval.specificity, \"precision\":eval.precision}\n",
    "pd.DataFrame(data=eval_Df, index=['value'])"
   ]
  },
  {
   "cell_type": "markdown",
   "metadata": {},
   "source": [
    "<h2>Building the Regression tree</h2>"
   ]
  },
  {
   "cell_type": "code",
   "execution_count": 33,
   "metadata": {
    "pycharm": {
     "name": "#%%\n"
    }
   },
   "outputs": [
    {
     "name": "stdout",
     "output_type": "stream",
     "text": [
      "---started regression tree grid_search....\n",
      "building regression tree started...\n",
      "building regression tree ended in 25.255584478378296 seconds\n",
      "building regression tree started...\n",
      "building regression tree ended in 25.287410497665405 seconds\n",
      "building regression tree started...\n",
      "building regression tree ended in 25.356464624404907 seconds\n",
      "building regression tree started...\n",
      "building regression tree ended in 25.147783517837524 seconds\n",
      "---ended regression tree grid_search....\n"
     ]
    }
   ],
   "source": [
    "#building the module\n",
    "print(\"---started regression tree grid_search....\")\n",
    "regtree = reg_grid_search(regressor_new_train, validation, reg_max_depth, reg_min_samples)\n",
    "print(\"---ended regression tree grid_search....\")"
   ]
  },
  {
   "cell_type": "markdown",
   "metadata": {},
   "source": [
    "<h2>predicting and evaluating the module</h2>"
   ]
  },
  {
   "cell_type": "code",
   "execution_count": 34,
   "metadata": {
    "pycharm": {
     "name": "#%%\n"
    }
   },
   "outputs": [
    {
     "name": "stdout",
     "output_type": "stream",
     "text": [
      "          max_depth:  min samples for split:\n",
      "selected           8                      20\n",
      "                                       MSE   R^2\n",
      "Decision Tree Regressor 46500608901924.867 0.607\n"
     ]
    }
   ],
   "source": [
    "from sklearn.metrics import r2_score\n",
    "\n",
    "#predicting\n",
    "eval = Reg_Evaluation()\n",
    "\n",
    "#selected hyperparameters\n",
    "selected_params = {\"max_depth:\":regtree.max_depth,\"min samples for split:\":regtree.min_samples}\n",
    "print(pd.DataFrame(data=selected_params, index=['selected']))\n",
    "\n",
    "#pre-processing the test data(changing categorical values)\n",
    "regressor_test_area_type = test['area_type'].map({'B': 1, 'P': 0})\n",
    "regressor_test = pd.concat([regressor_test_area_type, test.iloc[:,2:]], axis=1)\n",
    "\n",
    "#predicting\n",
    "pred = eval.predicting_regression(regressor_test, regtree)\n",
    "\n",
    "#evaluating\n",
    "pd.set_option('display.float_format', lambda x: '%.3f' % x)\n",
    "\n",
    "\n",
    "\n",
    "MSE = round(mean_squared_error(test.iloc[:,8:], pred), 3)\n",
    "R2 = r2_score(test.iloc[:,8:], pred)\n",
    "pd.set_option('display.float_format', lambda x: '%.3f' % x)\n",
    "df = pd.DataFrame([MSE,R2]).T\n",
    "df = df.rename(index={0: 'Decision Tree Regressor'}, columns={0: 'MSE',1:'R^2'})\n",
    "print(df)"
   ]
  },
  {
   "cell_type": "markdown",
   "source": [
    "<h2>Building the AdaBoost Classifier</h2>"
   ],
   "metadata": {
    "collapsed": false
   }
  },
  {
   "cell_type": "code",
   "execution_count": 68,
   "metadata": {
    "pycharm": {
     "name": "#%%\n"
    }
   },
   "outputs": [
    {
     "name": "stdout",
     "output_type": "stream",
     "text": [
      "---building AdaBoost Classifier started....\n",
      "---building AdaBoost Classifier ended in 7174.536885023117 seconds....\n"
     ]
    }
   ],
   "source": [
    "#building the module\n",
    "print(\"---building AdaBoost Classifier started....\")\n",
    "start_time = time.time()\n",
    "adaboost = adaboost_grid_search(ada_train_Set,validation,n_estimators)\n",
    "print(\"---building AdaBoost Classifier ended in %s seconds....\" % (time.time() - start_time))"
   ]
  },
  {
   "cell_type": "markdown",
   "metadata": {},
   "source": [
    "<h2>predicting and evaluating the module</h2>"
   ]
  },
  {
   "cell_type": "code",
   "execution_count": 70,
   "metadata": {
    "pycharm": {
     "name": "#%%\n"
    }
   },
   "outputs": [
    {
     "name": "stdout",
     "output_type": "stream",
     "text": [
      "predicting\n",
      "       TRUE B  TRUE P  FALSE B  FALSE P\n",
      "count    1941     253       97      222\n"
     ]
    },
    {
     "data": {
      "text/plain": "       accuracy  sensitivity  specificity  precision\nvalue     0.873        0.897        0.723      0.952",
      "text/html": "<div>\n<style scoped>\n    .dataframe tbody tr th:only-of-type {\n        vertical-align: middle;\n    }\n\n    .dataframe tbody tr th {\n        vertical-align: top;\n    }\n\n    .dataframe thead th {\n        text-align: right;\n    }\n</style>\n<table border=\"1\" class=\"dataframe\">\n  <thead>\n    <tr style=\"text-align: right;\">\n      <th></th>\n      <th>accuracy</th>\n      <th>sensitivity</th>\n      <th>specificity</th>\n      <th>precision</th>\n    </tr>\n  </thead>\n  <tbody>\n    <tr>\n      <th>value</th>\n      <td>0.873</td>\n      <td>0.897</td>\n      <td>0.723</td>\n      <td>0.952</td>\n    </tr>\n  </tbody>\n</table>\n</div>"
     },
     "execution_count": 70,
     "metadata": {},
     "output_type": "execute_result"
    }
   ],
   "source": [
    "#predictiong and evaluating\n",
    "print(\"predicting\")\n",
    "classify_test = test.copy(deep=True)\n",
    "classify_test = classify_test.drop(['Unnamed: 0'], axis=1)\n",
    "eval = AdaEvaluation()\n",
    "eval.predicting_adaboost(classify_test, adaboost)\n",
    "#evaluating\n",
    "eval_Df = {\"TRUE B\": eval.TA, \"TRUE P\": eval.TB, \"FALSE B\": eval.FA, \"FALSE P\":eval.FB}\n",
    "print(pd.DataFrame(data=eval_Df, index=[\"count\"]))\n",
    "eval_Df = {\"accuracy\": eval.accuracy, \"sensitivity\": eval.sensitivity, \"specificity\": eval.specificity, \"precision\":eval.precision}\n",
    "pd.DataFrame(data=eval_Df, index=[\"value\"])"
   ]
  },
  {
   "cell_type": "markdown",
   "source": [
    "<h2>building the Gradiant Boost(Section D1) </h2>\n"
   ],
   "metadata": {
    "collapsed": false
   }
  },
  {
   "cell_type": "code",
   "execution_count": 35,
   "outputs": [
    {
     "name": "stdout",
     "output_type": "stream",
     "text": [
      "started gradiant boost grid search...\n",
      "building gradiant boost started...\n",
      "building gradiant boost ended in 247.13996124267578 seconds\n",
      "building gradiant boost started...\n",
      "building gradiant boost ended in 530.1908087730408 seconds\n",
      "building gradiant boost started...\n",
      "building gradiant boost ended in 273.22786712646484 seconds\n",
      "building gradiant boost started...\n",
      "building gradiant boost ended in 616.2974944114685 seconds\n",
      "ended gradiant boost grid search...\n"
     ]
    }
   ],
   "source": [
    "print(\"started gradiant boost grid search...\")\n",
    "g = gradiant_grid_search(gradiant_train,validation,gradiant_max_depth,gradiant_estimators,0.5)\n",
    "print(\"ended gradiant boost grid search...\")"
   ],
   "metadata": {
    "collapsed": false,
    "pycharm": {
     "name": "#%%\n"
    }
   }
  },
  {
   "cell_type": "code",
   "execution_count": 36,
   "outputs": [
    {
     "name": "stdout",
     "output_type": "stream",
     "text": [
      "          max_depth:  estimators num:\n",
      "selected           5               10\n",
      "                                       MSE   R^2\n",
      "Decision Tree Regressor 44048656039215.648 0.628\n"
     ]
    }
   ],
   "source": [
    "eval = GradiantEvaluation()\n",
    "\n",
    "#selected hyperparameters\n",
    "selected_params = {\"max_depth:\":g.max_depth,\"estimators num:\":g.estimators}\n",
    "print(pd.DataFrame(data=selected_params, index=['selected']))\n",
    "\n",
    "#pre-processing the test data(changing categorical values)\n",
    "regressor_test_area_type = test['area_type'].map({'B': 1, 'P': 0})\n",
    "regressor_test = pd.concat([regressor_test_area_type, test.iloc[:,2:]], axis=1)\n",
    "\n",
    "#predicting\n",
    "pred = eval.predicting_gradiant(regressor_test, g)\n",
    "#evaluating\n",
    "pd.set_option('display.float_format', lambda x: '%.3f' % x)\n",
    "\n",
    "MSE = round(mean_squared_error(test.iloc[:,8:], pred), 3)\n",
    "R2 = r2_score(test.iloc[:,8:], pred)\n",
    "pd.set_option('display.float_format', lambda x: '%.3f' % x)\n",
    "df = pd.DataFrame([MSE,R2]).T\n",
    "df = df.rename(index={0: 'Decision Tree Regressor'}, columns={0: 'MSE',1:'R^2'})\n",
    "print(df)"
   ],
   "metadata": {
    "collapsed": false,
    "pycharm": {
     "name": "#%%\n"
    }
   }
  },
  {
   "cell_type": "markdown",
   "metadata": {},
   "source": [
    "<h1>Section c</h1>\n",
    "<h2>Sclearn classify implamantion</h2>\n",
    "<span id=\"Section C\"></span>"
   ]
  },
  {
   "cell_type": "code",
   "execution_count": 37,
   "metadata": {
    "pycharm": {
     "name": "#%%\n"
    }
   },
   "outputs": [
    {
     "name": "stdout",
     "output_type": "stream",
     "text": [
      "building classify tree ended in 4.767280340194702 seconds\n",
      "                max_depth  min_samples_leaf\n",
      "Selected Value          7                 6\n",
      "                          Accuracy\n",
      "Decision Tree Classifier     0.911\n"
     ]
    },
    {
     "data": {
      "text/plain": "<Figure size 432x288 with 2 Axes>",
      "image/png": "[encoded data removed]"
     },
     "metadata": {
      "needs_background": "light"
     },
     "output_type": "display_data"
    },
    {
     "data": {
      "text/plain": "   accuracy  sensitivity  specificity  precision\n0     0.911        0.942        0.720      0.954",
      "text/html": "<div>\n<style scoped>\n    .dataframe tbody tr th:only-of-type {\n        vertical-align: middle;\n    }\n\n    .dataframe tbody tr th {\n        vertical-align: top;\n    }\n\n    .dataframe thead th {\n        text-align: right;\n    }\n</style>\n<table border=\"1\" class=\"dataframe\">\n  <thead>\n    <tr style=\"text-align: right;\">\n      <th></th>\n      <th>accuracy</th>\n      <th>sensitivity</th>\n      <th>specificity</th>\n      <th>precision</th>\n    </tr>\n  </thead>\n  <tbody>\n    <tr>\n      <th>0</th>\n      <td>0.911</td>\n      <td>0.942</td>\n      <td>0.720</td>\n      <td>0.954</td>\n    </tr>\n  </tbody>\n</table>\n</div>"
     },
     "execution_count": 37,
     "metadata": {},
     "output_type": "execute_result"
    }
   ],
   "source": [
    "\n",
    "\n",
    "##sclearn implementation\n",
    "dt = DecisionTreeClassifier(random_state=RSEED)\n",
    "# define parameter grid\n",
    "parameters_grid = {\n",
    "    'max_depth': [4, 5,6,7],\n",
    "    'min_samples_leaf': [2,4,6,8],\n",
    "}\n",
    "\n",
    "# define grid search\n",
    "grid_search = GridSearchCV(estimator=dt, param_grid=parameters_grid, cv=10)\n",
    "\n",
    "\n",
    "# fit estimator\n",
    "start_time = time.time()\n",
    "grid_search.fit(x_smote, y_smote)\n",
    "print(\"building classify tree ended in %s seconds\" % (time.time() - start_time))\n",
    "# get best estimator\n",
    "best = grid_search.best_estimator_\n",
    "\n",
    "# print best parameters\n",
    "print(pd.DataFrame.from_dict(grid_search.best_params_, orient='index', columns=['Selected Value']).T)\n",
    "# predict\n",
    "y_pred = best.predict(test.iloc[:,2:])\n",
    "\n",
    "#evaluating\n",
    "# calculate accuracy\n",
    "acc = round(accuracy_score(test.iloc[:,1:2], y_pred), 3)\n",
    "\n",
    "df = pd.DataFrame([acc]).T\n",
    "df = df.rename(index={0: 'Decision Tree Classifier'}, columns={0: 'Accuracy'})\n",
    "df\n",
    "print(df)\n",
    "\n",
    "#confusion_matrix\n",
    "plot_confusion_matrix(grid_search, test.iloc[:,2:], test.iloc[:,1:2])\n",
    "plt.show()\n",
    "tp, fn, fp, tn = confusion_matrix(test.iloc[:,1:2], y_pred).ravel()\n",
    "eval_sklearn = Evaluation()\n",
    "eval_sklearn.TA = tp\n",
    "eval_sklearn.TB = tn\n",
    "eval_sklearn.FA = fp\n",
    "eval_sklearn.FB = fn\n",
    "eval_sklearn.accuracy, eval_sklearn.sensitivity, eval_sklearn.specificity, eval_sklearn.precision = calcMatrics(tp,tn,fp,fn)\n",
    "eval_Df = {\"accuracy\": eval_sklearn.accuracy, \"sensitivity\": eval_sklearn.sensitivity, \"specificity\": eval_sklearn.specificity, \"precision\":eval_sklearn.precision}\n",
    "pd.DataFrame(data=eval_Df, index=[0])"
   ]
  },
  {
   "cell_type": "markdown",
   "metadata": {},
   "source": [
    "<h2>Sclearn Adaboost implamantion</h2>"
   ]
  },
  {
   "cell_type": "code",
   "execution_count": 38,
   "metadata": {
    "pycharm": {
     "name": "#%%\n"
    }
   },
   "outputs": [
    {
     "name": "stdout",
     "output_type": "stream",
     "text": [
      "sklearn adaboost fit time 4.805155277252197 seconds ---\n",
      "                n_estimators\n",
      "Selected Value            20\n",
      "                     Accuracy\n",
      "AdaBoost Classifier     0.883\n"
     ]
    },
    {
     "data": {
      "text/plain": "<Figure size 432x288 with 2 Axes>",
      "image/png": "[encoded data removed]"
     },
     "metadata": {
      "needs_background": "light"
     },
     "output_type": "display_data"
    },
    {
     "data": {
      "text/plain": "   accuracy  sensitivity  specificity  precision\n0     0.883        0.913        0.697      0.949",
      "text/html": "<div>\n<style scoped>\n    .dataframe tbody tr th:only-of-type {\n        vertical-align: middle;\n    }\n\n    .dataframe tbody tr th {\n        vertical-align: top;\n    }\n\n    .dataframe thead th {\n        text-align: right;\n    }\n</style>\n<table border=\"1\" class=\"dataframe\">\n  <thead>\n    <tr style=\"text-align: right;\">\n      <th></th>\n      <th>accuracy</th>\n      <th>sensitivity</th>\n      <th>specificity</th>\n      <th>precision</th>\n    </tr>\n  </thead>\n  <tbody>\n    <tr>\n      <th>0</th>\n      <td>0.883</td>\n      <td>0.913</td>\n      <td>0.697</td>\n      <td>0.949</td>\n    </tr>\n  </tbody>\n</table>\n</div>"
     },
     "execution_count": 38,
     "metadata": {},
     "output_type": "execute_result"
    }
   ],
   "source": [
    "# define model\n",
    "ab = AdaBoostClassifier(random_state=RSEED)\n",
    "\n",
    "# define parameter grid\n",
    "parameters_grid = {\n",
    "    'n_estimators': [10,20],\n",
    "}\n",
    "\n",
    "# define grid search\n",
    "grid_search = GridSearchCV(estimator=ab, param_grid=parameters_grid, cv=10)\n",
    "start_time = time.time()\n",
    "# fit estimator\n",
    "grid_search.fit(x_smote, y_smote)\n",
    "print(\"sklearn adaboost fit time %s seconds ---\" % (time.time() - start_time))\n",
    "# get best estimator\n",
    "best = grid_search.best_estimator_\n",
    "\n",
    "# print best parameters\n",
    "print(pd.DataFrame.from_dict(grid_search.best_params_, orient='index', columns=['Selected Value']).T)\n",
    "\n",
    "# predict\n",
    "y_pred = best.predict(test.iloc[:,2:])\n",
    "\n",
    "# calculate accuracy\n",
    "acc = round(accuracy_score(test.iloc[:,1:2], y_pred), 3)\n",
    "\n",
    "df = pd.DataFrame([acc]).T\n",
    "df = df.rename(index={0: 'AdaBoost Classifier'}, columns={0: 'Accuracy'})\n",
    "print(df)\n",
    "\n",
    "#confusion_matrix\n",
    "plot_confusion_matrix(grid_search, test.iloc[:,2:], test.iloc[:,1:2])\n",
    "plt.show()\n",
    "tp, fn, fp, tn = confusion_matrix(test.iloc[:,1:2], y_pred).ravel()\n",
    "eval_sklearn = Evaluation()\n",
    "eval_sklearn.TA = tp\n",
    "eval_sklearn.TB = tn\n",
    "eval_sklearn.FA = fp\n",
    "eval_sklearn.FB = fn\n",
    "eval_sklearn.accuracy, eval_sklearn.sensitivity, eval_sklearn.specificity, eval_sklearn.precision = calcMatrics(tp,tn,fp,fn)\n",
    "eval_Df = {\"accuracy\": eval_sklearn.accuracy, \"sensitivity\": eval_sklearn.sensitivity, \"specificity\": eval_sklearn.specificity, \"precision\":eval_sklearn.precision}\n",
    "pd.DataFrame(data=eval_Df, index=[0])"
   ]
  },
  {
   "cell_type": "markdown",
   "metadata": {},
   "source": [
    "<h2>Sclearn Regression implamantion</h2>\n"
   ]
  },
  {
   "cell_type": "code",
   "execution_count": 39,
   "metadata": {
    "pycharm": {
     "name": "#%%\n"
    }
   },
   "outputs": [
    {
     "name": "stdout",
     "output_type": "stream",
     "text": [
      "sklearn regressor fit time 5.181177139282227 seconds ---\n",
      "                max_depth  min_samples_leaf\n",
      "Selected Value          8                20\n"
     ]
    },
    {
     "data": {
      "text/plain": "                                       MSE   R^2\nDecision Tree Regressor 36565772832157.883 0.691",
      "text/html": "<div>\n<style scoped>\n    .dataframe tbody tr th:only-of-type {\n        vertical-align: middle;\n    }\n\n    .dataframe tbody tr th {\n        vertical-align: top;\n    }\n\n    .dataframe thead th {\n        text-align: right;\n    }\n</style>\n<table border=\"1\" class=\"dataframe\">\n  <thead>\n    <tr style=\"text-align: right;\">\n      <th></th>\n      <th>MSE</th>\n      <th>R^2</th>\n    </tr>\n  </thead>\n  <tbody>\n    <tr>\n      <th>Decision Tree Regressor</th>\n      <td>36565772832157.883</td>\n      <td>0.691</td>\n    </tr>\n  </tbody>\n</table>\n</div>"
     },
     "execution_count": 39,
     "metadata": {},
     "output_type": "execute_result"
    }
   ],
   "source": [
    "# define model\n",
    "dt = DecisionTreeRegressor(random_state=RSEED)\n",
    "\n",
    "# define parameter grid\n",
    "parameters_grid = {\n",
    "    'max_depth': [3, 4, 5 , 6 ,7 , 8],\n",
    "    'min_samples_leaf': [20, 30,15,10,12,5,6,7,4],\n",
    "}\n",
    "\n",
    "# define grid search\n",
    "grid_search = GridSearchCV(estimator=dt, param_grid=parameters_grid, cv=10)\n",
    "\n",
    "# fit estimator\n",
    "start_time = time.time()\n",
    "grid_search.fit(regressor_train_X, regressor_train_y)\n",
    "print(\"sklearn regressor fit time %s seconds ---\" % (time.time() - start_time))\n",
    "# get best estimator\n",
    "best = grid_search.best_estimator_\n",
    "\n",
    "# print best parameters\n",
    "print(pd.DataFrame.from_dict(grid_search.best_params_, orient='index', columns=['Selected Value']).T)\n",
    "\n",
    "regressor_test_area_type = test['area_type'].map({'B': 1, 'P': 0})\n",
    "\n",
    "regressor_test = pd.concat([regressor_test_area_type, test.iloc[:,2:8]], axis=1)\n",
    "\n",
    "# predict\n",
    "y_pred = best.predict(regressor_test.iloc[:,0:8])\n",
    "y_pred_after_exp = list()\n",
    "for pred in y_pred:\n",
    "    y_pred_after_exp.append(exp(pred))\n",
    "\n",
    "# calculate MSE\n",
    "MSE = round(mean_squared_error(test.iloc[:,8:], y_pred_after_exp), 3)\n",
    "R2 = r2_score(test.iloc[:,8:], y_pred_after_exp)\n",
    "pd.set_option('display.float_format', lambda x: '%.3f' % x)\n",
    "df = pd.DataFrame([MSE,R2]).T\n",
    "df = df.rename(index={0: 'Decision Tree Regressor'}, columns={0: 'MSE',1:'R^2'})\n",
    "df"
   ]
  },
  {
   "cell_type": "markdown",
   "source": [
    "<h2>Sclearn Gradiant Boost(Section D1)</h2>"
   ],
   "metadata": {
    "collapsed": false
   }
  },
  {
   "cell_type": "code",
   "execution_count": 40,
   "metadata": {
    "pycharm": {
     "name": "#%%\n"
    }
   },
   "outputs": [
    {
     "name": "stdout",
     "output_type": "stream",
     "text": [
      "sklearn gradiant boost fit time 6.491684675216675 seconds ---\n",
      "                learning_rate  n_estimators\n",
      "Selected Value          0.500        30.000\n"
     ]
    },
    {
     "data": {
      "text/plain": "                                       MSE   R^2\nDecision Tree Regressor 39972929801796.953 0.662",
      "text/html": "<div>\n<style scoped>\n    .dataframe tbody tr th:only-of-type {\n        vertical-align: middle;\n    }\n\n    .dataframe tbody tr th {\n        vertical-align: top;\n    }\n\n    .dataframe thead th {\n        text-align: right;\n    }\n</style>\n<table border=\"1\" class=\"dataframe\">\n  <thead>\n    <tr style=\"text-align: right;\">\n      <th></th>\n      <th>MSE</th>\n      <th>R^2</th>\n    </tr>\n  </thead>\n  <tbody>\n    <tr>\n      <th>Decision Tree Regressor</th>\n      <td>39972929801796.953</td>\n      <td>0.662</td>\n    </tr>\n  </tbody>\n</table>\n</div>"
     },
     "execution_count": 40,
     "metadata": {},
     "output_type": "execute_result"
    }
   ],
   "source": [
    "# define model\n",
    "gb = GradientBoostingRegressor(random_state=RSEED)\n",
    "\n",
    "# define parameter grid\n",
    "parameters_grid = {\n",
    "    'learning_rate': [0.5, 1, 1.5],\n",
    "    'n_estimators': [10, 20,30]\n",
    "}\n",
    "\n",
    "# define grid search\n",
    "grid_search = GridSearchCV(estimator=gb, param_grid=parameters_grid, cv=10)\n",
    "\n",
    "# define grid search\n",
    "grid_search = GridSearchCV(estimator=gb, param_grid=parameters_grid, cv=10)\n",
    "\n",
    "start_time = time.time()\n",
    "# fit estimator\n",
    "grid_search.fit(regressor_train_X, regressor_train_y)\n",
    "print(\"sklearn gradiant boost fit time %s seconds ---\" % (time.time() - start_time))\n",
    "\n",
    "# get best estimator\n",
    "best = grid_search.best_estimator_\n",
    "\n",
    "# print best parameters\n",
    "print(pd.DataFrame.from_dict(grid_search.best_params_, orient='index', columns=['Selected Value']).T)\n",
    "\n",
    "\n",
    "regressor_test_area_type = test['area_type'].map({'B': 1, 'P': 0})\n",
    "\n",
    "regressor_test = pd.concat([regressor_test_area_type, test.iloc[:,2:8]], axis=1)\n",
    "\n",
    "# predict\n",
    "y_pred = best.predict(regressor_test.iloc[:,0:8])\n",
    "y_pred_after_exp = list()\n",
    "for pred in y_pred:\n",
    "    y_pred_after_exp.append(exp(pred))\n",
    "\n",
    "MSE = round(mean_squared_error(test.iloc[:,8:], y_pred_after_exp), 3)\n",
    "R2 = r2_score(test.iloc[:,8:], y_pred_after_exp)\n",
    "pd.set_option('display.float_format', lambda x: '%.3f' % x)\n",
    "df = pd.DataFrame([MSE,R2]).T\n",
    "df = df.rename(index={0: 'Decision Tree Regressor'}, columns={0: 'MSE',1:'R^2'})\n",
    "df"
   ]
  },
  {
   "cell_type": "code",
   "execution_count": null,
   "outputs": [],
   "source": [],
   "metadata": {
    "collapsed": false,
    "pycharm": {
     "name": "#%%\n"
    }
   }
  }
 ],
 "metadata": {
  "kernelspec": {
   "display_name": "Python 3 (ipykernel)",
   "language": "python",
   "name": "python3"
  },
  "language_info": {
   "codemirror_mode": {
    "name": "ipython",
    "version": 3
   },
   "file_extension": ".py",
   "mimetype": "text/x-python",
   "name": "python",
   "nbconvert_exporter": "python",
   "pygments_lexer": "ipython3",
   "version": "3.9.7"
  }
 },
 "nbformat": 4,
 "nbformat_minor": 1
}
